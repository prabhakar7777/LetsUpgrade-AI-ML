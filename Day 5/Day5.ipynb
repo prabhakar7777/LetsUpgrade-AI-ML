{
 "cells": [
  {
   "cell_type": "markdown",
   "metadata": {},
   "source": [
    "___Question 1 :\n",
    "Write a Python program to find the first 20 non-even prime natural numbers.___"
   ]
  },
  {
   "cell_type": "code",
   "execution_count": 1,
   "metadata": {},
   "outputs": [
    {
     "name": "stdout",
     "output_type": "stream",
     "text": [
      "Enter the lower and upper limit upto which a prime number is to be printed\n",
      "\n",
      "enter the lower limit2\n",
      "enter the upper limit100\n",
      "3\n",
      "5\n",
      "7\n",
      "11\n",
      "13\n",
      "17\n",
      "19\n",
      "23\n",
      "29\n",
      "31\n",
      "37\n",
      "41\n",
      "43\n",
      "47\n",
      "53\n",
      "59\n",
      "61\n",
      "67\n",
      "71\n",
      "73\n",
      "Count of prime number displayed is: 20\n"
     ]
    }
   ],
   "source": [
    "print(\"Enter the lower and upper limit upto which a prime number is to be printed\\n\")\n",
    "l=int(input(\"enter the lower limit\"))\n",
    "u=int(input(\"enter the upper limit\"))\n",
    "count=0\n",
    "for pri in range(l,u):\n",
    "    if (pri%2!=0 and count<20): #count should be less than 20 as given in the question\n",
    "        for i in range(2,pri):\n",
    "            if (pri%i==0):\n",
    "                break    #function to terminate the loop when the conditions are met\n",
    "        else:\n",
    "            print(pri)\n",
    "            count+=1 \n",
    "print(\"Count of prime number displayed is:\",count)"
   ]
  },
  {
   "cell_type": "markdown",
   "metadata": {},
   "source": [
    "___Question 2 :\n",
    "Write a Python program to implement 15 functions of string.___"
   ]
  },
  {
   "cell_type": "code",
   "execution_count": 2,
   "metadata": {},
   "outputs": [
    {
     "name": "stdout",
     "output_type": "stream",
     "text": [
      "Combined string is: i am Learningartificial Intellingence and Machine Learning\n",
      "i am Learning artificial Intellingence and Machine Learning\n",
      "I AM lEARNING ARTIFICIAL iNTELLINGENCE AND mACHINE lEARNING\n",
      "i am learning artificial intellingence and machine learning\n",
      "I AM LEARNING ARTIFICIAL INTELLINGENCE AND MACHINE LEARNING\n",
      "False False\n",
      "i am Learning Python\n",
      "the length of s1 is: 13 the length of s2 is: 45\n",
      "-1 37\n",
      "['i', 'am', 'Learning'] ['artificial', 'Intellingence', 'and', 'Machine', 'Learning']\n",
      "False False\n",
      "False False\n",
      "False False\n",
      "False False\n",
      "I Am Learning Artificial Intellingence And Machine Learning\n",
      "False False\n",
      "string 1 contain {m} 1 times &  string 1 contain {l} 3 times\n",
      "I am learning Artificial intellingence and machine learning\n"
     ]
    }
   ],
   "source": [
    "s1=\"i am Learning\"\n",
    "s2= \"artificial Intellingence and Machine Learning\"\n",
    "print('Combined string is:',s1+s2)\n",
    "print(s1,s2)\n",
    "print(s1.swapcase(),s2.swapcase())# this function will convert the respective lower case to an upper case and vice versa\n",
    "print(s1.lower(),s2.lower())# this function will convert the string to lower case\n",
    "print(s1.upper(),s2.upper())# this function will convert the string to an upper case \n",
    "print(s1.isalpha(),s2.isalpha())# this function will try to find out whether the string contains only alphabet \n",
    "print(s1.replace('Learning','Learning Python'))# this function will replace the word \"Learning\" in s1 with \"Learning Python\"\n",
    "print('the length of s1 is:',len(s1),'the length of s2 is:',len(s2))# this function will find out the length of the string\n",
    "print(s1.find('I'),s2.find('L'))# this function will try to find out the specific words in the string\n",
    "print(s1.split(), s2.split())#this function will split the string and print as a list\n",
    "print(s1.isalnum(),s2.isalnum())# this function will try to find out whether the string contain any alpha numeric characters \n",
    "print(s1.isdigit(),s2.isdigit())# this function will try to find out whether the string contains any digit\n",
    "print(s1.isspace(),s2.isspace())# this function will try to find out whether the string contains spaces\n",
    "print(s1.isalnum(),s2.isalnum())# this function will try to find out whether the string contain alpha numeric character \n",
    "print(s1.title(),s2.title())# this function will convert the first alphabet of string to capital\n",
    "print(s1.isdecimal(),s2.isdecimal())# this function will try to find out whether the strings contains decimal values\n",
    "print(\"string 1 contain {m}\",s1.count('m'),'times & ',\"string 1 contain {l}\",s2.count('l'),'times')# this function will try to find out the occurence of a specific alphabets\n",
    "print(s1.capitalize(),s2.capitalize())# this function will convert the first character of a string to an upper case "
   ]
  },
  {
   "cell_type": "markdown",
   "metadata": {},
   "source": [
    "___Question 3:\n",
    "Write a Python program to check if the given string is a Palindrome or Anagram or None of them.\n",
    "Display the message accordingly to the user.___\n"
   ]
  },
  {
   "cell_type": "code",
   "execution_count": 3,
   "metadata": {},
   "outputs": [
    {
     "name": "stdout",
     "output_type": "stream",
     "text": [
      "enter the First string\n",
      "dad\n",
      "enter the Second string\n",
      "add\n",
      "Entered string {'dad'} is a palindrome\n",
      "Entered string {'dad'} & {'add'} is Anagram\n"
     ]
    }
   ],
   "source": [
    "'''For Palindrome onle string s1 will be used while to check anagram both string s1 and s2 will be used'''\n",
    "s1=input('enter the First string\\n')\n",
    "s_rev=s1[::-1]\n",
    "s2=input('enter the Second string\\n')\n",
    "s3=sorted(s1)\n",
    "s4=sorted(s2)\n",
    "if s1==s_rev:\n",
    "    print(f\"Entered string\",{s1},'is a palindrome')\n",
    "    # i.e. the Entered string S1 is identical in both forward and backward direction\n",
    "    if s3==s4:\n",
    "        print(f\"Entered string\",{s1},'&',{s2},'is Anagram')\n",
    "    #i.e. the Entered string s1 and s2 contains same characters but the order of alphabets may be different\n",
    "else:\n",
    "    print(\"neither a Palindrome or Anagram\")\n"
   ]
  },
  {
   "cell_type": "markdown",
   "metadata": {},
   "source": [
    "___Question 4:\n",
    "Write a Python's user defined function that removes all the additional characters from the string\n",
    "and converts it finally to lower case using built-in lower(). eg: If the string is \"Dr. Darshan Ingle\n",
    "@AI-ML Trainer\", then the output be \"drdarshaningleaimltrainer\".___"
   ]
  },
  {
   "cell_type": "code",
   "execution_count": 4,
   "metadata": {},
   "outputs": [
    {
     "name": "stdout",
     "output_type": "stream",
     "text": [
      "Input string is :\n",
      " Dr. Darshan Ingle @AI-ML Trainer\n",
      "special character removed: drdarshaningleaimltrainer\n"
     ]
    }
   ],
   "source": [
    "def remove_sp(v):\n",
    "    lst=['!','@','#','$','%','^','^','.','&','*','_',',','.','?','/','-',' ']\n",
    "    for i in lst:\n",
    "        v=v.replace(i,'')\n",
    "        v=v.lower()\n",
    "    print(\"special character removed:\",v)\n",
    "s1=\"Dr. Darshan Ingle @AI-ML Trainer\"\n",
    "print(\"Input string is :\\n\",s1)\n",
    "remove_sp(s1)"
   ]
  },
  {
   "cell_type": "code",
   "execution_count": null,
   "metadata": {},
   "outputs": [],
   "source": []
  }
 ],
 "metadata": {
  "kernelspec": {
   "display_name": "Python 3",
   "language": "python",
   "name": "python3"
  },
  "language_info": {
   "codemirror_mode": {
    "name": "ipython",
    "version": 3
   },
   "file_extension": ".py",
   "mimetype": "text/x-python",
   "name": "python",
   "nbconvert_exporter": "python",
   "pygments_lexer": "ipython3",
   "version": "3.7.3"
  },
  "toc": {
   "base_numbering": 1,
   "nav_menu": {},
   "number_sections": true,
   "sideBar": true,
   "skip_h1_title": false,
   "title_cell": "Table of Contents",
   "title_sidebar": "Contents",
   "toc_cell": false,
   "toc_position": {},
   "toc_section_display": true,
   "toc_window_display": false
  }
 },
 "nbformat": 4,
 "nbformat_minor": 2
}
