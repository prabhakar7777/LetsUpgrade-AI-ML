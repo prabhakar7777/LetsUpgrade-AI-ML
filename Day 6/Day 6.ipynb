{
 "cells": [
  {
   "cell_type": "markdown",
   "metadata": {},
   "source": [
    "___Question 1:\n",
    "Assuming that we have some email addresses in the \"username@companyname.com\" format, please write program\n",
    "to print the company name of a given email address. Both user names and company names are composed of letters\n",
    "only.\n",
    "Input Format:\n",
    "The first line of the input contains an email address.\n",
    "Output Format:\n",
    "Print the company name in single line.\n",
    "Example;\n",
    "Input:\n",
    "john@google.com\n",
    "Output:\n",
    "google___"
   ]
  },
  {
   "cell_type": "code",
   "execution_count": 1,
   "metadata": {},
   "outputs": [
    {
     "name": "stdout",
     "output_type": "stream",
     "text": [
      "Enter your mail idjohn@google.com\n",
      "Entered email address is: john@google.com\n",
      "google.com\n",
      "The Company name is:----> google\n"
     ]
    }
   ],
   "source": [
    "e_mail=input(\"Enter your mail id\")\n",
    "print(\"Entered email address is:\",e_mail)\n",
    "a1=e_mail.split(\"@\")[1]\n",
    "print(a1)\n",
    "a2=a1.split(\".\")[0]\n",
    "print(\"The Company name is:---->\",a2)"
   ]
  },
  {
   "cell_type": "markdown",
   "metadata": {},
   "source": [
    "___Q2. Write a program that accepts a comma-separated sequence of words as input and prints the words in a comma\n",
    "separated sequence after sorting them alphabetically.\n",
    "Input Format:\n",
    "The first line of input contains words separated by the comma.\n",
    "Output Format:\n",
    "Print the sorted words separated by the comma.\n",
    "Example:\n",
    "Input:\n",
    "without,hello,bag,world\n",
    "Output:\n",
    "bag,hello,without,world___"
   ]
  },
  {
   "cell_type": "code",
   "execution_count": 2,
   "metadata": {},
   "outputs": [
    {
     "name": "stdout",
     "output_type": "stream",
     "text": [
      "Enter the words separated by commas:without, hello, bag, world\n",
      "The words before sorting are:\n",
      "without, hello, bag, world\n",
      "The words after sorting are:\n",
      "bag,hello,without,world"
     ]
    }
   ],
   "source": [
    "words=input(\"Enter the words separated by commas:\")\n",
    "word=words.split()\n",
    "word.sort()\n",
    "print(\"The words before sorting are:\")\n",
    "print(words)\n",
    "print(\"The words after sorting are:\")\n",
    "for i in word:\n",
    "    print(i,end=\"\")"
   ]
  },
  {
   "cell_type": "markdown",
   "metadata": {},
   "source": [
    "___Question 3:\n",
    "Create your own Jupyter Notebook for Sets.___"
   ]
  },
  {
   "cell_type": "code",
   "execution_count": 3,
   "metadata": {},
   "outputs": [
    {
     "name": "stdout",
     "output_type": "stream",
     "text": [
      "Enter the First sets separated by comma:---->AI, ML, Deep Learning\n",
      "Enter the Second sets separated by comma:---->python, spyder, pandas, matplotlib, numpy \n",
      "<class 'set'>\n",
      "<class 'set'>\n",
      "First sets Entered is: {'AI, ML, Deep Learning'}\n",
      "Second sets Entered is: {'python, spyder, pandas, matplotlib, numpy '}\n",
      "Enter the word to check in the list:----->ML\n",
      "The Existence of( ML) word in the sets is:--> True\n",
      "['python, spyder, pandas, matplotlib, numpy ', 'AI, ML, Deep Learning']\n"
     ]
    }
   ],
   "source": [
    "s1=input(\"Enter the First sets separated by comma:---->\")\n",
    "sets1={s1}\n",
    "s2=input(\"Enter the Second sets separated by comma:---->\")\n",
    "sets2={s2}\n",
    "print(type(sets1))\n",
    "print(type(sets1))\n",
    "print(\"First sets Entered is:\",sets1)\n",
    "print(\"Second sets Entered is:\",sets2)\n",
    "aw=input(\"Enter the word to check in the list:----->\")\n",
    "print(f\"The Existence of( {aw}) word in the sets is:-->\",aw in s1)\n",
    "s3=list(sets1.union(sets2))\n",
    "print(s3)"
   ]
  },
  {
   "cell_type": "markdown",
   "metadata": {},
   "source": [
    "___Question 4:\n",
    "Given a list of n-1 numbers ranging from 1 to n, your task is to find the missing number. There are no duplicates.\n",
    "Input Format:\n",
    "The first line contains n-1 numbers with each number separated by a space.\n",
    "Output Format:\n",
    "Print the missing number\n",
    "Example:\n",
    "Input:1 2 4 6 3 7 8\n",
    "Output:5\n",
    "Explanation:\n",
    "In the above list of numbers 5 is missing and hence 5 is the input___"
   ]
  },
  {
   "cell_type": "code",
   "execution_count": 9,
   "metadata": {},
   "outputs": [
    {
     "name": "stdout",
     "output_type": "stream",
     "text": [
      "1 2 4 6 4 7 8\n",
      "The length:------> 7\n",
      "The missing number is-----> 3\n",
      "The missing number is-----> 5\n"
     ]
    }
   ],
   "source": [
    "num1=list(map(int, input().split()))\n",
    "le=len(num1)+1\n",
    "print(\"The length:------>\",le-1)\n",
    "for i in range(1,le):\n",
    "    if i not in num1:\n",
    "        print(\"The missing number is----->\",i)"
   ]
  },
  {
   "cell_type": "markdown",
   "metadata": {},
   "source": [
    "___Question 5:\n",
    "With a given list L, write a program to print this list L after removing all duplicate values with original order reserved.\n",
    "Example:\n",
    "If the input list is\n",
    "12 24 35 24 88 120 155 88 120 155\n",
    "Then the output should be\n",
    "12 24 35 88 120 155\n",
    "Explanation:___"
   ]
  },
  {
   "cell_type": "code",
   "execution_count": 8,
   "metadata": {},
   "outputs": [
    {
     "name": "stdout",
     "output_type": "stream",
     "text": [
      "12 24 35 24 88 120 155 88 120 155\n",
      "[12, 24, 35, 24, 88, 120, 155, 88, 120, 155]\n",
      "output [12, 24, 35, 88, 120, 155]\n"
     ]
    }
   ],
   "source": [
    "num1=list(map(int, input().split()))\n",
    "num2=[]\n",
    "for i in num1:\n",
    "    if i not in num2:\n",
    "        num2.append(i)\n",
    "print(num1)\n",
    "print(\"output\",num2)"
   ]
  },
  {
   "cell_type": "code",
   "execution_count": null,
   "metadata": {},
   "outputs": [],
   "source": []
  }
 ],
 "metadata": {
  "kernelspec": {
   "display_name": "Python 3",
   "language": "python",
   "name": "python3"
  },
  "language_info": {
   "codemirror_mode": {
    "name": "ipython",
    "version": 3
   },
   "file_extension": ".py",
   "mimetype": "text/x-python",
   "name": "python",
   "nbconvert_exporter": "python",
   "pygments_lexer": "ipython3",
   "version": "3.7.6"
  },
  "toc": {
   "base_numbering": 1,
   "nav_menu": {},
   "number_sections": true,
   "sideBar": true,
   "skip_h1_title": false,
   "title_cell": "Table of Contents",
   "title_sidebar": "Contents",
   "toc_cell": false,
   "toc_position": {},
   "toc_section_display": true,
   "toc_window_display": false
  }
 },
 "nbformat": 4,
 "nbformat_minor": 4
}
