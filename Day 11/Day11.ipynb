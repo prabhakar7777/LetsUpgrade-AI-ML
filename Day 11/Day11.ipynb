{
 "cells": [
  {
   "cell_type": "code",
   "execution_count": 1,
   "metadata": {},
   "outputs": [],
   "source": [
    "import pandas as pd"
   ]
  },
  {
   "cell_type": "code",
   "execution_count": 2,
   "metadata": {},
   "outputs": [],
   "source": [
    "df=pd.read_csv(\"attrition.csv\")"
   ]
  },
  {
   "cell_type": "code",
   "execution_count": 3,
   "metadata": {},
   "outputs": [
    {
     "data": {
      "text/html": [
       "<div>\n",
       "<style scoped>\n",
       "    .dataframe tbody tr th:only-of-type {\n",
       "        vertical-align: middle;\n",
       "    }\n",
       "\n",
       "    .dataframe tbody tr th {\n",
       "        vertical-align: top;\n",
       "    }\n",
       "\n",
       "    .dataframe thead th {\n",
       "        text-align: right;\n",
       "    }\n",
       "</style>\n",
       "<table border=\"1\" class=\"dataframe\">\n",
       "  <thead>\n",
       "    <tr style=\"text-align: right;\">\n",
       "      <th></th>\n",
       "      <th>Age</th>\n",
       "      <th>Attrition</th>\n",
       "      <th>BusinessTravel</th>\n",
       "      <th>Department</th>\n",
       "      <th>DistanceFromHome</th>\n",
       "      <th>Education</th>\n",
       "      <th>EducationField</th>\n",
       "      <th>EmployeeCount</th>\n",
       "      <th>EmployeeID</th>\n",
       "      <th>Gender</th>\n",
       "      <th>...</th>\n",
       "      <th>NumCompaniesWorked</th>\n",
       "      <th>Over18</th>\n",
       "      <th>PercentSalaryHike</th>\n",
       "      <th>StandardHours</th>\n",
       "      <th>StockOptionLevel</th>\n",
       "      <th>TotalWorkingYears</th>\n",
       "      <th>TrainingTimesLastYear</th>\n",
       "      <th>YearsAtCompany</th>\n",
       "      <th>YearsSinceLastPromotion</th>\n",
       "      <th>YearsWithCurrManager</th>\n",
       "    </tr>\n",
       "  </thead>\n",
       "  <tbody>\n",
       "    <tr>\n",
       "      <th>0</th>\n",
       "      <td>51</td>\n",
       "      <td>No</td>\n",
       "      <td>Travel_Rarely</td>\n",
       "      <td>Sales</td>\n",
       "      <td>6</td>\n",
       "      <td>2</td>\n",
       "      <td>Life Sciences</td>\n",
       "      <td>1</td>\n",
       "      <td>1</td>\n",
       "      <td>Female</td>\n",
       "      <td>...</td>\n",
       "      <td>1.0</td>\n",
       "      <td>Y</td>\n",
       "      <td>11</td>\n",
       "      <td>8</td>\n",
       "      <td>0</td>\n",
       "      <td>1.0</td>\n",
       "      <td>6</td>\n",
       "      <td>1</td>\n",
       "      <td>0</td>\n",
       "      <td>0</td>\n",
       "    </tr>\n",
       "    <tr>\n",
       "      <th>1</th>\n",
       "      <td>31</td>\n",
       "      <td>Yes</td>\n",
       "      <td>Travel_Frequently</td>\n",
       "      <td>Research &amp; Development</td>\n",
       "      <td>10</td>\n",
       "      <td>1</td>\n",
       "      <td>Life Sciences</td>\n",
       "      <td>1</td>\n",
       "      <td>2</td>\n",
       "      <td>Female</td>\n",
       "      <td>...</td>\n",
       "      <td>0.0</td>\n",
       "      <td>Y</td>\n",
       "      <td>23</td>\n",
       "      <td>8</td>\n",
       "      <td>1</td>\n",
       "      <td>6.0</td>\n",
       "      <td>3</td>\n",
       "      <td>5</td>\n",
       "      <td>1</td>\n",
       "      <td>4</td>\n",
       "    </tr>\n",
       "    <tr>\n",
       "      <th>2</th>\n",
       "      <td>32</td>\n",
       "      <td>No</td>\n",
       "      <td>Travel_Frequently</td>\n",
       "      <td>Research &amp; Development</td>\n",
       "      <td>17</td>\n",
       "      <td>4</td>\n",
       "      <td>Other</td>\n",
       "      <td>1</td>\n",
       "      <td>3</td>\n",
       "      <td>Male</td>\n",
       "      <td>...</td>\n",
       "      <td>1.0</td>\n",
       "      <td>Y</td>\n",
       "      <td>15</td>\n",
       "      <td>8</td>\n",
       "      <td>3</td>\n",
       "      <td>5.0</td>\n",
       "      <td>2</td>\n",
       "      <td>5</td>\n",
       "      <td>0</td>\n",
       "      <td>3</td>\n",
       "    </tr>\n",
       "    <tr>\n",
       "      <th>3</th>\n",
       "      <td>38</td>\n",
       "      <td>No</td>\n",
       "      <td>Non-Travel</td>\n",
       "      <td>Research &amp; Development</td>\n",
       "      <td>2</td>\n",
       "      <td>5</td>\n",
       "      <td>Life Sciences</td>\n",
       "      <td>1</td>\n",
       "      <td>4</td>\n",
       "      <td>Male</td>\n",
       "      <td>...</td>\n",
       "      <td>3.0</td>\n",
       "      <td>Y</td>\n",
       "      <td>11</td>\n",
       "      <td>8</td>\n",
       "      <td>3</td>\n",
       "      <td>13.0</td>\n",
       "      <td>5</td>\n",
       "      <td>8</td>\n",
       "      <td>7</td>\n",
       "      <td>5</td>\n",
       "    </tr>\n",
       "    <tr>\n",
       "      <th>4</th>\n",
       "      <td>32</td>\n",
       "      <td>No</td>\n",
       "      <td>Travel_Rarely</td>\n",
       "      <td>Research &amp; Development</td>\n",
       "      <td>10</td>\n",
       "      <td>1</td>\n",
       "      <td>Medical</td>\n",
       "      <td>1</td>\n",
       "      <td>5</td>\n",
       "      <td>Male</td>\n",
       "      <td>...</td>\n",
       "      <td>4.0</td>\n",
       "      <td>Y</td>\n",
       "      <td>12</td>\n",
       "      <td>8</td>\n",
       "      <td>2</td>\n",
       "      <td>9.0</td>\n",
       "      <td>2</td>\n",
       "      <td>6</td>\n",
       "      <td>0</td>\n",
       "      <td>4</td>\n",
       "    </tr>\n",
       "  </tbody>\n",
       "</table>\n",
       "<p>5 rows × 24 columns</p>\n",
       "</div>"
      ],
      "text/plain": [
       "   Age Attrition     BusinessTravel              Department  DistanceFromHome  \\\n",
       "0   51        No      Travel_Rarely                   Sales                 6   \n",
       "1   31       Yes  Travel_Frequently  Research & Development                10   \n",
       "2   32        No  Travel_Frequently  Research & Development                17   \n",
       "3   38        No         Non-Travel  Research & Development                 2   \n",
       "4   32        No      Travel_Rarely  Research & Development                10   \n",
       "\n",
       "   Education EducationField  EmployeeCount  EmployeeID  Gender  ...  \\\n",
       "0          2  Life Sciences              1           1  Female  ...   \n",
       "1          1  Life Sciences              1           2  Female  ...   \n",
       "2          4          Other              1           3    Male  ...   \n",
       "3          5  Life Sciences              1           4    Male  ...   \n",
       "4          1        Medical              1           5    Male  ...   \n",
       "\n",
       "   NumCompaniesWorked Over18 PercentSalaryHike  StandardHours  \\\n",
       "0                 1.0      Y                11              8   \n",
       "1                 0.0      Y                23              8   \n",
       "2                 1.0      Y                15              8   \n",
       "3                 3.0      Y                11              8   \n",
       "4                 4.0      Y                12              8   \n",
       "\n",
       "   StockOptionLevel TotalWorkingYears  TrainingTimesLastYear  YearsAtCompany  \\\n",
       "0                 0               1.0                      6               1   \n",
       "1                 1               6.0                      3               5   \n",
       "2                 3               5.0                      2               5   \n",
       "3                 3              13.0                      5               8   \n",
       "4                 2               9.0                      2               6   \n",
       "\n",
       "   YearsSinceLastPromotion  YearsWithCurrManager  \n",
       "0                        0                     0  \n",
       "1                        1                     4  \n",
       "2                        0                     3  \n",
       "3                        7                     5  \n",
       "4                        0                     4  \n",
       "\n",
       "[5 rows x 24 columns]"
      ]
     },
     "execution_count": 3,
     "metadata": {},
     "output_type": "execute_result"
    }
   ],
   "source": [
    "df.head(5)"
   ]
  },
  {
   "cell_type": "code",
   "execution_count": 4,
   "metadata": {},
   "outputs": [
    {
     "data": {
      "text/plain": [
       "0        No\n",
       "1       Yes\n",
       "2        No\n",
       "3        No\n",
       "4        No\n",
       "       ... \n",
       "4405     No\n",
       "4406     No\n",
       "4407     No\n",
       "4408     No\n",
       "4409     No\n",
       "Name: Attrition, Length: 4410, dtype: object"
      ]
     },
     "execution_count": 4,
     "metadata": {},
     "output_type": "execute_result"
    }
   ],
   "source": [
    "df[\"Attrition\"]"
   ]
  },
  {
   "cell_type": "code",
   "execution_count": 5,
   "metadata": {},
   "outputs": [],
   "source": [
    "df[\"Attrition\"]=df[\"Attrition\"].map({\"No\":0, \"Yes\":1})"
   ]
  },
  {
   "cell_type": "code",
   "execution_count": 6,
   "metadata": {},
   "outputs": [
    {
     "data": {
      "text/plain": [
       "0       0\n",
       "1       1\n",
       "2       0\n",
       "3       0\n",
       "4       0\n",
       "       ..\n",
       "4405    0\n",
       "4406    0\n",
       "4407    0\n",
       "4408    0\n",
       "4409    0\n",
       "Name: Attrition, Length: 4410, dtype: int64"
      ]
     },
     "execution_count": 6,
     "metadata": {},
     "output_type": "execute_result"
    }
   ],
   "source": [
    "df[\"Attrition\"]"
   ]
  },
  {
   "cell_type": "code",
   "execution_count": 7,
   "metadata": {},
   "outputs": [],
   "source": [
    "from scipy.stats import pearsonr"
   ]
  },
  {
   "cell_type": "code",
   "execution_count": 8,
   "metadata": {},
   "outputs": [],
   "source": [
    "stats,p=pearsonr(df.Attrition,df.Age)"
   ]
  },
  {
   "cell_type": "code",
   "execution_count": 9,
   "metadata": {},
   "outputs": [
    {
     "name": "stdout",
     "output_type": "stream",
     "text": [
      "-0.15920500686577943 1.996801615887666e-26\n",
      "Null Hypothesis will be Rejected and thus Alternate hypothesis will be Accepted\n"
     ]
    }
   ],
   "source": [
    "'''Null Hypothesis, H0: Attrition and Age has no correlation\n",
    "    Alternate Hypothesis, H1:Attrition and Age has correlation'''\n",
    "print(stats,p)\n",
    "if (p<0.05):\n",
    "    print(\"Null Hypothesis will be Rejected and thus Alternate hypothesis will be Accepted\")\n",
    "else:\n",
    "    print(\"Null Hypothesis will be Accepted\")\n",
    "        "
   ]
  },
  {
   "cell_type": "code",
   "execution_count": 10,
   "metadata": {},
   "outputs": [
    {
     "data": {
      "text/plain": [
       "<matplotlib.collections.PathCollection at 0x15fbceac948>"
      ]
     },
     "execution_count": 10,
     "metadata": {},
     "output_type": "execute_result"
    },
    {
     "data": {
      "image/png": "[encoded data removed]",
      "text/plain": [
       "<Figure size 432x288 with 1 Axes>"
      ]
     },
     "metadata": {
      "needs_background": "light"
     },
     "output_type": "display_data"
    }
   ],
   "source": [
    "import matplotlib.pyplot as plt\n",
    "plt.scatter(df.Age,df.Attrition)"
   ]
  },
  {
   "cell_type": "code",
   "execution_count": 11,
   "metadata": {},
   "outputs": [],
   "source": [
    "# the r values is -0.15920500686577943 and corresponding p values is -0.15920500686577943"
   ]
  },
  {
   "cell_type": "code",
   "execution_count": 12,
   "metadata": {},
   "outputs": [
    {
     "name": "stdout",
     "output_type": "stream",
     "text": [
      "-0.031176281698115017 0.03842748490600132\n",
      "Null Hypothesis will be Rejected and thus Alternate hypothesis will be Accepted\n"
     ]
    }
   ],
   "source": [
    "'''H0: Attrition and Monthly Income has no correlation\n",
    "    H1:Attrition and Monthly Income has no correlation'''\n",
    "\n",
    "stats,p=pearsonr(df.Attrition,df.MonthlyIncome)\n",
    "print(stats,p)\n",
    "if (p<0.05):\n",
    "    print(\"Null Hypothesis will be Rejected and thus Alternate hypothesis will be Accepted\")\n",
    "else:\n",
    "    print(\"Null Hypothesis will be Accepted\")\n",
    "        "
   ]
  },
  {
   "cell_type": "code",
   "execution_count": 13,
   "metadata": {},
   "outputs": [
    {
     "name": "stdout",
     "output_type": "stream",
     "text": [
      "-0.00973014101017969 0.5182860428050771\n",
      "Null Hypothesis will be Accepted\n"
     ]
    }
   ],
   "source": [
    "'''H0: Attrition and Distance From Home has no correlation\n",
    "    H1:Attrition and Distance From Home has no correlation'''\n",
    "\n",
    "stats,p=pearsonr(df.Attrition,df.DistanceFromHome )\n",
    "print(stats,p)\n",
    "if (p<0.05):\n",
    "    print(\"Null Hypothesis will be Rejected and thus Alternate hypothesis will be Accepted\")\n",
    "else:\n",
    "    print(\"Null Hypothesis will be Accepted\")\n",
    "        "
   ]
  },
  {
   "cell_type": "code",
   "execution_count": 14,
   "metadata": {},
   "outputs": [
    {
     "name": "stdout",
     "output_type": "stream",
     "text": [
      "-0.01511116771096876 0.3157293177118575\n",
      "Null Hypothesis will be Accepted\n"
     ]
    }
   ],
   "source": [
    "'''H0: Attrition and Education has no correlation\n",
    "    H1:Attrition and Education has correlation'''\n",
    "\n",
    "stats,p=pearsonr(df.Attrition,df.Education)\n",
    "print(stats,p)\n",
    "if (p<0.05):\n",
    "    print(\"Null Hypothesis will be Rejected and thus Alternate hypothesis will be Accepted\")\n",
    "else:\n",
    "    print(\"Null Hypothesis will be Accepted\")\n",
    "        "
   ]
  },
  {
   "cell_type": "code",
   "execution_count": 15,
   "metadata": {},
   "outputs": [
    {
     "name": "stdout",
     "output_type": "stream",
     "text": [
      "0.032532594891053514 0.030743386433355353\n",
      "Null Hypothesis will be Rejected and thus Alternate hypothesis will be Accepted\n"
     ]
    }
   ],
   "source": [
    "'''H0: Attrition and Percentage Salary Hike has no correlation\n",
    "    H1:Attrition and Percentage Salary Hike has correlation'''\n",
    "\n",
    "stats,p=pearsonr(df.Attrition,df.PercentSalaryHike)\n",
    "print(stats,p)\n",
    "if (p<0.05):\n",
    "    print(\"Null Hypothesis will be Rejected and thus Alternate hypothesis will be Accepted\")\n",
    "else:\n",
    "    print(\"Null Hypothesis will be Accepted\")\n",
    "        "
   ]
  },
  {
   "cell_type": "code",
   "execution_count": 16,
   "metadata": {},
   "outputs": [],
   "source": [
    "df.TotalWorkingYears=df.TotalWorkingYears.interpolate()\n",
    "df.NumCompaniesWorked=df.NumCompaniesWorked.interpolate()"
   ]
  },
  {
   "cell_type": "code",
   "execution_count": 17,
   "metadata": {},
   "outputs": [
    {
     "name": "stdout",
     "output_type": "stream",
     "text": [
      "-0.17029691465907898 4.73706453353432e-30\n",
      "Null Hypothesis will be Rejected and thus Alternate hypothesis will be Accepted\n"
     ]
    }
   ],
   "source": [
    "'''H0: Attrition and  Total working years has no correlation\n",
    "    H1:Attrition and Total Working Hour has correlation'''\n",
    "\n",
    "stats,p=pearsonr(df.Attrition,df.TotalWorkingYears)\n",
    "print(stats,p)\n",
    "if (p<0.05):\n",
    "    print(\"Null Hypothesis will be Rejected and thus Alternate hypothesis will be Accepted\")\n",
    "else:\n",
    "    print(\"Null Hypothesis will be Accepted\")\n",
    "        "
   ]
  },
  {
   "cell_type": "code",
   "execution_count": 18,
   "metadata": {},
   "outputs": [
    {
     "name": "stdout",
     "output_type": "stream",
     "text": [
      "-0.04943057624425494 0.0010247061915365072\n",
      "Null Hypothesis will be Rejected and thus Alternate hypothesis will be Accepted\n"
     ]
    }
   ],
   "source": [
    "'''H0: Attrition and  Training Times Last Year has no correlation\n",
    "    H1:Attrition and Training Times Last Year has correlation'''\n",
    "\n",
    "stats,p=pearsonr(df.Attrition,df.TrainingTimesLastYear)\n",
    "print(stats,p)\n",
    "if (p<0.05):\n",
    "    print(\"Null Hypothesis will be Rejected and thus Alternate hypothesis will be Accepted\")\n",
    "else:\n",
    "    print(\"Null Hypothesis will be Accepted\")\n",
    "        "
   ]
  },
  {
   "cell_type": "code",
   "execution_count": 19,
   "metadata": {},
   "outputs": [
    {
     "name": "stdout",
     "output_type": "stream",
     "text": [
      "-0.04943057624425494 0.0010247061915365072\n",
      "Null Hypothesis will be Rejected and thus Alternate hypothesis will be Accepted\n"
     ]
    }
   ],
   "source": [
    "'''H0: Attrition and  Years At Company has no correlation\n",
    "    H1:Attrition and Years At Company has correlation'''\n",
    "\n",
    "stats,p=pearsonr(df.Attrition,df.TrainingTimesLastYear)\n",
    "print(stats,p)\n",
    "if (p<0.05):\n",
    "    print(\"Null Hypothesis will be Rejected and thus Alternate hypothesis will be Accepted\")\n",
    "else:\n",
    "    print(\"Null Hypothesis will be Accepted\")\n",
    "        "
   ]
  },
  {
   "cell_type": "code",
   "execution_count": 20,
   "metadata": {},
   "outputs": [
    {
     "name": "stdout",
     "output_type": "stream",
     "text": [
      "-0.03301877514258435 0.028330336189396753\n",
      "Null Hypothesis will be Rejected and thus Alternate hypothesis will be Accepted\n"
     ]
    }
   ],
   "source": [
    "'''H0: Attrition and Years Since Last Promotion has no correlation\n",
    "    H1:Attrition and Years Since Last Promotion has correlation'''\n",
    "\n",
    "stats,p=pearsonr(df.Attrition,df.YearsSinceLastPromotion)\n",
    "print(stats,p)\n",
    "if (p<0.05):\n",
    "    print(\"Null Hypothesis will be Rejected and thus Alternate hypothesis will be Accepted\")\n",
    "else:\n",
    "    print(\"Null Hypothesis will be Accepted\")\n",
    "        "
   ]
  },
  {
   "cell_type": "code",
   "execution_count": 21,
   "metadata": {},
   "outputs": [
    {
     "name": "stdout",
     "output_type": "stream",
     "text": [
      "-0.1561993159016281 1.7339322652904162e-25\n",
      "Null Hypothesis will be Rejected and thus Alternate hypothesis will be Accepted\n"
     ]
    }
   ],
   "source": [
    "'''H0: Attrition and  Years With CurrManager has no correlation\n",
    "    H1:Attrition and Years With CurrManager has correlation'''\n",
    "\n",
    "stats,p=pearsonr(df.Attrition,df.YearsWithCurrManager)\n",
    "print(stats,p)\n",
    "if (p<0.05):\n",
    "    print(\"Null Hypothesis will be Rejected and thus Alternate hypothesis will be Accepted\")\n",
    "else:\n",
    "    print(\"Null Hypothesis will be Accepted\")\n",
    "        "
   ]
  },
  {
   "cell_type": "code",
   "execution_count": 22,
   "metadata": {},
   "outputs": [
    {
     "data": {
      "text/plain": [
       "Index(['Age', 'Attrition', 'BusinessTravel', 'Department', 'DistanceFromHome',\n",
       "       'Education', 'EducationField', 'EmployeeCount', 'EmployeeID', 'Gender',\n",
       "       'JobLevel', 'JobRole', 'MaritalStatus', 'MonthlyIncome',\n",
       "       'NumCompaniesWorked', 'Over18', 'PercentSalaryHike', 'StandardHours',\n",
       "       'StockOptionLevel', 'TotalWorkingYears', 'TrainingTimesLastYear',\n",
       "       'YearsAtCompany', 'YearsSinceLastPromotion', 'YearsWithCurrManager'],\n",
       "      dtype='object')"
      ]
     },
     "execution_count": 22,
     "metadata": {},
     "output_type": "execute_result"
    }
   ],
   "source": [
    "df.columns"
   ]
  },
  {
   "cell_type": "code",
   "execution_count": null,
   "metadata": {},
   "outputs": [],
   "source": []
  }
 ],
 "metadata": {
  "kernelspec": {
   "display_name": "Python 3",
   "language": "python",
   "name": "python3"
  },
  "language_info": {
   "codemirror_mode": {
    "name": "ipython",
    "version": 3
   },
   "file_extension": ".py",
   "mimetype": "text/x-python",
   "name": "python",
   "nbconvert_exporter": "python",
   "pygments_lexer": "ipython3",
   "version": "3.7.6"
  },
  "toc": {
   "base_numbering": 1,
   "nav_menu": {},
   "number_sections": true,
   "sideBar": true,
   "skip_h1_title": false,
   "title_cell": "Table of Contents",
   "title_sidebar": "Contents",
   "toc_cell": false,
   "toc_position": {},
   "toc_section_display": true,
   "toc_window_display": false
  }
 },
 "nbformat": 4,
 "nbformat_minor": 4
}
