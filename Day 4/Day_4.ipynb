{
 "cells": [
  {
   "cell_type": "markdown",
   "metadata": {},
   "source": [
    "__Question 1 :\n",
    "Research on whether addition, subtraction, multiplication, division, floor division and modulo\n",
    "operations be performed on complex numbers. Based on your study, implement a Python\n",
    "program to demonstrate these operations__"
   ]
  },
  {
   "cell_type": "code",
   "execution_count": 1,
   "metadata": {},
   "outputs": [
    {
     "name": "stdout",
     "output_type": "stream",
     "text": [
      "(7+10j)\n",
      "(-1-2j)\n",
      "(0.6923076923076924-0.038461538461538484j)\n",
      "(-12+34j)\n"
     ]
    }
   ],
   "source": [
    "a=3+4j\n",
    "b=4+6j \n",
    "c=a+b #addition of complex number \n",
    "d=a-b #Subtraction of complex number \n",
    "e=a/b #divison of complex number \n",
    "f=a*b #Multiplication of complex number\n",
    "print(c)\n",
    "print(d)\n",
    "print(e)\n",
    "print(f)"
   ]
  },
  {
   "cell_type": "code",
   "execution_count": 2,
   "metadata": {},
   "outputs": [
    {
     "ename": "TypeError",
     "evalue": "can't take floor of complex number.",
     "output_type": "error",
     "traceback": [
      "\u001b[1;31m---------------------------------------------------------------------------\u001b[0m",
      "\u001b[1;31mTypeError\u001b[0m                                 Traceback (most recent call last)",
      "\u001b[1;32m<ipython-input-2-d84431c5cc8f>\u001b[0m in \u001b[0;36m<module>\u001b[1;34m\u001b[0m\n\u001b[1;32m----> 1\u001b[1;33m \u001b[0ma\u001b[0m\u001b[1;33m//\u001b[0m\u001b[0mb\u001b[0m\u001b[1;33m\u001b[0m\u001b[1;33m\u001b[0m\u001b[0m\n\u001b[0m",
      "\u001b[1;31mTypeError\u001b[0m: can't take floor of complex number."
     ]
    }
   ],
   "source": [
    "a//b"
   ]
  },
  {
   "cell_type": "code",
   "execution_count": 3,
   "metadata": {},
   "outputs": [
    {
     "ename": "TypeError",
     "evalue": "can't mod complex numbers.",
     "output_type": "error",
     "traceback": [
      "\u001b[1;31m---------------------------------------------------------------------------\u001b[0m",
      "\u001b[1;31mTypeError\u001b[0m                                 Traceback (most recent call last)",
      "\u001b[1;32m<ipython-input-3-bd592a66b423>\u001b[0m in \u001b[0;36m<module>\u001b[1;34m\u001b[0m\n\u001b[1;32m----> 1\u001b[1;33m \u001b[0ma\u001b[0m\u001b[1;33m%\u001b[0m\u001b[0mb\u001b[0m\u001b[1;33m\u001b[0m\u001b[1;33m\u001b[0m\u001b[0m\n\u001b[0m",
      "\u001b[1;31mTypeError\u001b[0m: can't mod complex numbers."
     ]
    }
   ],
   "source": [
    "a%b"
   ]
  },
  {
   "cell_type": "markdown",
   "metadata": {},
   "source": [
    "__So modulo and floor divison can't be performed for a complex number__"
   ]
  },
  {
   "cell_type": "markdown",
   "metadata": {},
   "source": [
    "___Question 2 :\n",
    "Research on range() functions and its parameters. Create a markdown cell and write in your own\n",
    "words (no copy-paste from google please) what you understand about it. Implement a small\n",
    "program of your choice on the same.___"
   ]
  },
  {
   "cell_type": "code",
   "execution_count": 4,
   "metadata": {},
   "outputs": [
    {
     "data": {
      "text/plain": [
       "range(0, 3)"
      ]
     },
     "execution_count": 4,
     "metadata": {},
     "output_type": "execute_result"
    }
   ],
   "source": [
    "'''If it is required to display a sequence of numbers for a specified range then the range function in python\n",
    "can be used. Syntax:---> \"range()\" '''  \n",
    "\n",
    "range(3)"
   ]
  },
  {
   "cell_type": "code",
   "execution_count": 5,
   "metadata": {},
   "outputs": [
    {
     "data": {
      "text/plain": [
       "range(0, 8)"
      ]
     },
     "execution_count": 5,
     "metadata": {},
     "output_type": "execute_result"
    }
   ],
   "source": [
    "range(0,8)"
   ]
  },
  {
   "cell_type": "markdown",
   "metadata": {},
   "source": [
    "__Question 3:\n",
    " Consider two numbers. Perform their subtraction and if the result of subtraction is greater than\n",
    "25, print their multiplication result else print their division result__"
   ]
  },
  {
   "cell_type": "code",
   "execution_count": 6,
   "metadata": {},
   "outputs": [
    {
     "name": "stdout",
     "output_type": "stream",
     "text": [
      "Subtraction of a=90 & b=10 is: 80\n",
      "Since the subtraction result is greater than 25 so Multiplication of a=90 &b=10 is----->: 900\n"
     ]
    }
   ],
   "source": [
    "a=90\n",
    "b=10\n",
    "c=a-b\n",
    "if c>25:\n",
    "    print(f\"Subtraction of a={a} & b={b} is:\",c)\n",
    "    print(f\"Since the subtraction result is greater than 25 so Multiplication of a={a} &b={b} is----->:\",a*b)\n",
    "else:\n",
    "    print(f\"Subtraction of a={a} & b={b} is:\",c)\n",
    "    print(f\"Since the subtraction result is less than 25 so Divison of a={a} & b={b} is------->\",a/b)\n",
    "        \n"
   ]
  },
  {
   "cell_type": "markdown",
   "metadata": {},
   "source": [
    "__Question 4:\n",
    "Consider a list of 10 elements of integer values. If the number in the list is divisible by 2, print the\n",
    "result as \"square of that number minus 2\"__"
   ]
  },
  {
   "cell_type": "code",
   "execution_count": 7,
   "metadata": {},
   "outputs": [
    {
     "name": "stdout",
     "output_type": "stream",
     "text": [
      "The length of the list is : 10\n",
      "Since 2 is divisible by 2 so its square will be 4 & subtracting two from it will give 2\n",
      "Since 32 is divisible by 2 so its square will be 1024 & subtracting two from it will give 1022\n",
      "Since 12 is divisible by 2 so its square will be 144 & subtracting two from it will give 142\n",
      "Since 22 is divisible by 2 so its square will be 484 & subtracting two from it will give 482\n"
     ]
    }
   ],
   "source": [
    "lst=[1,2,3,5,43,32,11,12,67,22]\n",
    "print(\"The length of the list is :\",len(lst))\n",
    "for i in lst:\n",
    "    if i%2 ==0:\n",
    "        print(f\"Since {i} is divisible by 2 so its square will be\",i**2,\"& subtracting two from it will give\",i**2-2)"
   ]
  },
  {
   "cell_type": "markdown",
   "metadata": {},
   "source": [
    "__Question 5:\n",
    "Consider a list of 10 elements. Print all the elements in the list which are greater than 7 when that\n",
    "number is divided 2.__"
   ]
  },
  {
   "cell_type": "code",
   "execution_count": 8,
   "metadata": {},
   "outputs": [
    {
     "name": "stdout",
     "output_type": "stream",
     "text": [
      "The length of the list is : 10\n",
      "16 is the number which when divided by 2 gives a result which is greater than 7\n",
      "21 is the number which when divided by 2 gives a result which is greater than 7\n",
      "43 is the number which when divided by 2 gives a result which is greater than 7\n",
      "32 is the number which when divided by 2 gives a result which is greater than 7\n",
      "112 is the number which when divided by 2 gives a result which is greater than 7\n"
     ]
    }
   ],
   "source": [
    "lst=[1,2,3,6,14,16,21,43,32,112]\n",
    "print(\"The length of the list is :\",len(lst))\n",
    "for i in lst:\n",
    "    if (i/2)>7:\n",
    "        print(i,'is the number which when divided by 2 gives a result which is greater than 7')\n",
    "        "
   ]
  },
  {
   "cell_type": "code",
   "execution_count": null,
   "metadata": {},
   "outputs": [],
   "source": []
  }
 ],
 "metadata": {
  "kernelspec": {
   "display_name": "Python 3",
   "language": "python",
   "name": "python3"
  },
  "language_info": {
   "codemirror_mode": {
    "name": "ipython",
    "version": 3
   },
   "file_extension": ".py",
   "mimetype": "text/x-python",
   "name": "python",
   "nbconvert_exporter": "python",
   "pygments_lexer": "ipython3",
   "version": "3.7.3"
  },
  "toc": {
   "base_numbering": 1,
   "nav_menu": {},
   "number_sections": true,
   "sideBar": true,
   "skip_h1_title": false,
   "title_cell": "Table of Contents",
   "title_sidebar": "Contents",
   "toc_cell": false,
   "toc_position": {},
   "toc_section_display": true,
   "toc_window_display": false
  }
 },
 "nbformat": 4,
 "nbformat_minor": 2
}
