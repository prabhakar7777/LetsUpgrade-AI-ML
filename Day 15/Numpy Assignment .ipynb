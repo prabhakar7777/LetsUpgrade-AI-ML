{
 "cells": [
  {
   "cell_type": "markdown",
   "metadata": {},
   "source": [
    "# 1. Create a 3x3x3 array with random values "
   ]
  },
  {
   "cell_type": "code",
   "execution_count": 1,
   "metadata": {},
   "outputs": [],
   "source": [
    "import numpy as np"
   ]
  },
  {
   "cell_type": "code",
   "execution_count": 2,
   "metadata": {},
   "outputs": [
    {
     "data": {
      "text/plain": [
       "array([[[0.31353782, 0.15292173, 0.58439378],\n",
       "        [0.2844249 , 0.34153983, 0.51409491],\n",
       "        [0.73250703, 0.10973579, 0.24485482]],\n",
       "\n",
       "       [[0.66345514, 0.83783203, 0.08876264],\n",
       "        [0.51904281, 0.93399028, 0.96030759],\n",
       "        [0.05003068, 0.41277991, 0.12770234]],\n",
       "\n",
       "       [[0.67908365, 0.16342666, 0.56802805],\n",
       "        [0.9486614 , 0.22760121, 0.81006846],\n",
       "        [0.22468993, 0.92585775, 0.74918731]]])"
      ]
     },
     "execution_count": 2,
     "metadata": {},
     "output_type": "execute_result"
    }
   ],
   "source": [
    "num=np.random.random((3,3,3))\n",
    "num"
   ]
  },
  {
   "cell_type": "markdown",
   "metadata": {},
   "source": [
    "# 2.Create a 5x5 matrix with values 1,2,3,4 just below the diagonal"
   ]
  },
  {
   "cell_type": "code",
   "execution_count": 3,
   "metadata": {},
   "outputs": [],
   "source": [
    "import numpy as np"
   ]
  },
  {
   "cell_type": "code",
   "execution_count": 4,
   "metadata": {},
   "outputs": [
    {
     "name": "stdout",
     "output_type": "stream",
     "text": [
      "\n",
      " The required Matrix is:\n",
      " [[1 0 0 0 0]\n",
      " [0 2 0 0 0]\n",
      " [0 0 3 0 0]\n",
      " [0 0 0 4 0]\n",
      " [0 0 0 0 5]]\n"
     ]
    }
   ],
   "source": [
    "num1=np.diag([1,2,3,4,5])\n",
    "print(\"\\n The required Matrix is:\\n\",num1)"
   ]
  },
  {
   "cell_type": "markdown",
   "metadata": {},
   "source": [
    "# 4. Normalize a 5x5 random matrix"
   ]
  },
  {
   "cell_type": "code",
   "execution_count": 5,
   "metadata": {},
   "outputs": [
    {
     "name": "stdout",
     "output_type": "stream",
     "text": [
      "Before Normalization\n",
      "\n",
      "[[0.26678511 0.15489687 0.46263834 0.30711103 0.7523276 ]\n",
      " [0.77556127 0.56105596 0.62808404 0.06136215 0.4247275 ]\n",
      " [0.38979541 0.95460736 0.71709064 0.14989455 0.53340218]\n",
      " [0.74615533 0.9312091  0.48899836 0.60145976 0.5566881 ]\n",
      " [0.40680265 0.05837009 0.74379664 0.26147066 0.78078522]]\n",
      "MIN 0.05837009085871203\n",
      "Max 0.9546073588825439\n",
      " \n",
      "After Normalizing the array the values are\n",
      "[[0.23254447 0.10770225 0.45107279 0.27753917 0.77430111]\n",
      " [0.80022468 0.56088481 0.63567313 0.00333847 0.40877279]\n",
      " [0.3697964  1.         0.73498455 0.10212079 0.53002938]\n",
      " [0.76741423 0.97389279 0.48048467 0.60596639 0.55601126]\n",
      " [0.38877267 0.         0.76478247 0.22661473 0.80605344]]\n"
     ]
    }
   ],
   "source": [
    "print(\"Before Normalization\\n\")\n",
    "num3=np.random.random((5,5))\n",
    "print(num3)\n",
    "print(\"MIN\",num3.min())\n",
    "print(\"Max\",num3.max())\n",
    "norm=(num3-num3.min())/(num3.max()-num3.min())\n",
    "print(\" \")\n",
    "print(\"After Normalizing the array the values are\")\n",
    "print(norm)"
   ]
  },
  {
   "cell_type": "markdown",
   "metadata": {},
   "source": [
    "# 5.  How to find common values between two arrays?"
   ]
  },
  {
   "cell_type": "code",
   "execution_count": 6,
   "metadata": {},
   "outputs": [
    {
     "name": "stdout",
     "output_type": "stream",
     "text": [
      "[1 2 3 4]\n",
      "[ 4 31 23 22]\n",
      "common values between two arrays is: [4]\n"
     ]
    }
   ],
   "source": [
    "a1=np.array([1,2,3,4])\n",
    "print(a1)\n",
    "a2=np.array([4,31,23,22])\n",
    "print(a2)\n",
    "c=np.intersect1d(a1,a2,return_indices=False)\n",
    "print(\"common values between two arrays is:\",c)"
   ]
  },
  {
   "cell_type": "markdown",
   "metadata": {},
   "source": [
    "# 6.How to get the dates of yesterday, today and tomorrow?"
   ]
  },
  {
   "cell_type": "code",
   "execution_count": 7,
   "metadata": {},
   "outputs": [
    {
     "name": "stdout",
     "output_type": "stream",
     "text": [
      "Today's date: 2020-07-28\n"
     ]
    }
   ],
   "source": [
    "import time\n",
    "from datetime import date\n",
    "t=date.today()\n",
    "print(\"Today's date:\",t)"
   ]
  },
  {
   "cell_type": "markdown",
   "metadata": {},
   "source": [
    "# 7. Consider two random array A and B, check if they are equal"
   ]
  },
  {
   "cell_type": "code",
   "execution_count": 8,
   "metadata": {},
   "outputs": [
    {
     "name": "stdout",
     "output_type": "stream",
     "text": [
      "first random array [[0.29565912 0.23965603]\n",
      " [0.25775453 0.54659429]]\n",
      "Second random array [[0.78398553 0.0988621 ]\n",
      " [0.10278026 0.11343357]]\n",
      "The two Random arrays are\n",
      " [[0.29565912 0.23965603]\n",
      " [0.25775453 0.54659429]] \n",
      " [[0.78398553 0.0988621 ]\n",
      " [0.10278026 0.11343357]]\n",
      "Unequal\n"
     ]
    }
   ],
   "source": [
    "num4=np.random.random((2,2))\n",
    "num5=np.random.random((2,2))\n",
    "print(\"first random array\",num4) \n",
    "print(\"Second random array\",num5)\n",
    "print(\"The two Random arrays are\\n\",num4,\"\\n\",num5)\n",
    "b=np.array_equal(num4,num5)\n",
    "if b==False:\n",
    "    print(\"Unequal\")\n",
    "else:\n",
    "    printnt(\"equal\")"
   ]
  },
  {
   "cell_type": "markdown",
   "metadata": {},
   "source": [
    "# 8.Create random vector of size 10 and replace the maximum value by 0 "
   ]
  },
  {
   "cell_type": "code",
   "execution_count": 9,
   "metadata": {},
   "outputs": [
    {
     "name": "stdout",
     "output_type": "stream",
     "text": [
      "Original Random Vector\n",
      "\n",
      " [2.66271132e-01 1.93512920e-01 7.92472745e-01 4.09084479e-01\n",
      " 6.82299177e-01 1.57174339e-04 9.34814273e-01 5.91390179e-01\n",
      " 4.26231845e-01 6.91682825e-01]\n",
      "The maximum Entry is:---> 0.9348142732592812\n",
      "\n",
      "The Maximum Entry replaced by zero is:\n",
      "[2.66271132e-01 1.93512920e-01 7.92472745e-01 4.09084479e-01\n",
      " 6.82299177e-01 1.57174339e-04 0.00000000e+00 5.91390179e-01\n",
      " 4.26231845e-01 6.91682825e-01]\n"
     ]
    }
   ],
   "source": [
    "num6=np.random.random(10)\n",
    "print(\"Original Random Vector\\n\\n\",num6)\n",
    "m=num6.max()\n",
    "print(\"The maximum Entry is:--->\",m)\n",
    "num6[num6.argmax()]=0\n",
    "print(\"\\nThe Maximum Entry replaced by zero is:\")\n",
    "print(num6)"
   ]
  },
  {
   "cell_type": "markdown",
   "metadata": {},
   "source": [
    "# 9. How to print all the values of an array?"
   ]
  },
  {
   "cell_type": "code",
   "execution_count": 10,
   "metadata": {},
   "outputs": [
    {
     "name": "stdout",
     "output_type": "stream",
     "text": [
      "[1 2 3 4]\n"
     ]
    }
   ],
   "source": [
    "num6=np.array([1,2,3,4])\n",
    "print(num6)"
   ]
  },
  {
   "cell_type": "markdown",
   "metadata": {},
   "source": [
    "# 10.Subtract the mean of each row of a matrix"
   ]
  },
  {
   "cell_type": "code",
   "execution_count": 11,
   "metadata": {},
   "outputs": [
    {
     "name": "stdout",
     "output_type": "stream",
     "text": [
      "[[1 2 3]\n",
      " [4 5 6]\n",
      " [7 8 9]]\n",
      "The mean of the matrix is:--> 5.0\n",
      "Subtracting the mean of each row of a matrix is:-->\n",
      " [[-4. -3. -2.]\n",
      " [-1.  0.  1.]\n",
      " [ 2.  3.  4.]]\n"
     ]
    }
   ],
   "source": [
    "num7=np.array([[1,2,3],[4,5,6],[7,8,9]])\n",
    "print(num7)\n",
    "m=np.mean(num7)\n",
    "print(\"The mean of the matrix is:-->\",m)\n",
    "num9=num7-m\n",
    "print(\"Subtracting the mean of each row of a matrix is:-->\\n\",num9)"
   ]
  },
  {
   "cell_type": "markdown",
   "metadata": {},
   "source": [
    "# 12.How to get the diagonal of a dot product?"
   ]
  },
  {
   "cell_type": "code",
   "execution_count": 12,
   "metadata": {},
   "outputs": [
    {
     "name": "stdout",
     "output_type": "stream",
     "text": [
      "[[52, 22], [15, 68]]\n",
      "[[69, 12], [73, 24]]\n",
      "\n",
      "the dot product is:---> [[5194 1152]\n",
      " [5999 1812]]\n",
      "\n",
      "The diagonal of a dot product is:-->\n",
      " [5194 1812]\n"
     ]
    }
   ],
   "source": [
    "a3=[[52,22],[15,68]]\n",
    "a4=[[69,12],[73,24]]\n",
    "p=np.dot(a3,a4)\n",
    "print(a3)\n",
    "print(a4)\n",
    "print(\"\\nthe dot product is:--->\",p)\n",
    "print(\"\\nThe diagonal of a dot product is:-->\\n\",np.diag(p))"
   ]
  },
  {
   "cell_type": "markdown",
   "metadata": {},
   "source": [
    "# 13.How to find the most frequent value in an array?"
   ]
  },
  {
   "cell_type": "code",
   "execution_count": 13,
   "metadata": {},
   "outputs": [
    {
     "name": "stdout",
     "output_type": "stream",
     "text": [
      "Entered values in an array [ 1  2  3  4 10  6  2  7  0  8]\n",
      "the most frequent value in an array is:\n",
      " 2\n"
     ]
    }
   ],
   "source": [
    "num10=np.array([1,2,3,4,10,6,2,7,0,8])\n",
    "print(\"Entered values in an array\",num10)\n",
    "c=np.bincount(num10)\n",
    "max1=c.argmax()\n",
    "print(\"the most frequent value in an array is:\\n\",max1)"
   ]
  },
  {
   "cell_type": "markdown",
   "metadata": {},
   "source": [
    "# 14.How to get the n largest values of an array"
   ]
  },
  {
   "cell_type": "code",
   "execution_count": 14,
   "metadata": {},
   "outputs": [
    {
     "name": "stdout",
     "output_type": "stream",
     "text": [
      "[ 0  1  2  3  4  5  6  7  8  9 10 11 12 13 14 15 16 17 18 19 20 21 22 23\n",
      " 24 25 26 27 28 29 30 31 32 33 34 35 36 37 38 39]\n",
      "\n",
      " [ 0  1  2  3  4  5  6  7  8  9 10 11 12 13 14 15 16 17 18 19 20 21 22 23\n",
      " 24 25 26 27 28 29 30 31 32 33 34 35 36 37 38 39]\n",
      "\n",
      " The largest values of an array:----> 39\n"
     ]
    }
   ],
   "source": [
    "num11=np.arange(40)\n",
    "print(num11)\n",
    "print(\"\\n\",np.sort(num11))\n",
    "c=num11[-1]\n",
    "print(\"\\n The largest values of an array:---->\",c)"
   ]
  }
 ],
 "metadata": {
  "kernelspec": {
   "display_name": "Python 3",
   "language": "python",
   "name": "python3"
  },
  "language_info": {
   "codemirror_mode": {
    "name": "ipython",
    "version": 3
   },
   "file_extension": ".py",
   "mimetype": "text/x-python",
   "name": "python",
   "nbconvert_exporter": "python",
   "pygments_lexer": "ipython3",
   "version": "3.7.6"
  },
  "toc": {
   "base_numbering": 1,
   "nav_menu": {},
   "number_sections": true,
   "sideBar": true,
   "skip_h1_title": false,
   "title_cell": "Table of Contents",
   "title_sidebar": "Contents",
   "toc_cell": false,
   "toc_position": {},
   "toc_section_display": true,
   "toc_window_display": false
  }
 },
 "nbformat": 4,
 "nbformat_minor": 2
}
