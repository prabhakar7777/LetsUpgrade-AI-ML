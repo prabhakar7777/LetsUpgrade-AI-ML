{
 "cells": [
  {
   "cell_type": "code",
   "execution_count": 1,
   "metadata": {},
   "outputs": [],
   "source": [
    "# to import the pandas Library\n",
    "import pandas as pd"
   ]
  },
  {
   "cell_type": "markdown",
   "metadata": {},
   "source": [
    "# Loading the Dataset"
   ]
  },
  {
   "cell_type": "code",
   "execution_count": 2,
   "metadata": {},
   "outputs": [
    {
     "data": {
      "text/html": [
       "<div>\n",
       "<style scoped>\n",
       "    .dataframe tbody tr th:only-of-type {\n",
       "        vertical-align: middle;\n",
       "    }\n",
       "\n",
       "    .dataframe tbody tr th {\n",
       "        vertical-align: top;\n",
       "    }\n",
       "\n",
       "    .dataframe thead th {\n",
       "        text-align: right;\n",
       "    }\n",
       "</style>\n",
       "<table border=\"1\" class=\"dataframe\">\n",
       "  <thead>\n",
       "    <tr style=\"text-align: right;\">\n",
       "      <th></th>\n",
       "      <th>Age</th>\n",
       "      <th>Attrition</th>\n",
       "      <th>BusinessTravel</th>\n",
       "      <th>Department</th>\n",
       "      <th>DistanceFromHome</th>\n",
       "      <th>Education</th>\n",
       "      <th>EducationField</th>\n",
       "      <th>EmployeeCount</th>\n",
       "      <th>EmployeeID</th>\n",
       "      <th>Gender</th>\n",
       "      <th>...</th>\n",
       "      <th>NumCompaniesWorked</th>\n",
       "      <th>Over18</th>\n",
       "      <th>PercentSalaryHike</th>\n",
       "      <th>StandardHours</th>\n",
       "      <th>StockOptionLevel</th>\n",
       "      <th>TotalWorkingYears</th>\n",
       "      <th>TrainingTimesLastYear</th>\n",
       "      <th>YearsAtCompany</th>\n",
       "      <th>YearsSinceLastPromotion</th>\n",
       "      <th>YearsWithCurrManager</th>\n",
       "    </tr>\n",
       "  </thead>\n",
       "  <tbody>\n",
       "    <tr>\n",
       "      <th>0</th>\n",
       "      <td>51</td>\n",
       "      <td>No</td>\n",
       "      <td>Travel_Rarely</td>\n",
       "      <td>Sales</td>\n",
       "      <td>6</td>\n",
       "      <td>2</td>\n",
       "      <td>Life Sciences</td>\n",
       "      <td>1</td>\n",
       "      <td>1</td>\n",
       "      <td>Female</td>\n",
       "      <td>...</td>\n",
       "      <td>1.0</td>\n",
       "      <td>Y</td>\n",
       "      <td>11</td>\n",
       "      <td>8</td>\n",
       "      <td>0</td>\n",
       "      <td>1.0</td>\n",
       "      <td>6</td>\n",
       "      <td>1</td>\n",
       "      <td>0</td>\n",
       "      <td>0</td>\n",
       "    </tr>\n",
       "    <tr>\n",
       "      <th>1</th>\n",
       "      <td>31</td>\n",
       "      <td>Yes</td>\n",
       "      <td>Travel_Frequently</td>\n",
       "      <td>Research &amp; Development</td>\n",
       "      <td>10</td>\n",
       "      <td>1</td>\n",
       "      <td>Life Sciences</td>\n",
       "      <td>1</td>\n",
       "      <td>2</td>\n",
       "      <td>Female</td>\n",
       "      <td>...</td>\n",
       "      <td>0.0</td>\n",
       "      <td>Y</td>\n",
       "      <td>23</td>\n",
       "      <td>8</td>\n",
       "      <td>1</td>\n",
       "      <td>6.0</td>\n",
       "      <td>3</td>\n",
       "      <td>5</td>\n",
       "      <td>1</td>\n",
       "      <td>4</td>\n",
       "    </tr>\n",
       "    <tr>\n",
       "      <th>2</th>\n",
       "      <td>32</td>\n",
       "      <td>No</td>\n",
       "      <td>Travel_Frequently</td>\n",
       "      <td>Research &amp; Development</td>\n",
       "      <td>17</td>\n",
       "      <td>4</td>\n",
       "      <td>Other</td>\n",
       "      <td>1</td>\n",
       "      <td>3</td>\n",
       "      <td>Male</td>\n",
       "      <td>...</td>\n",
       "      <td>1.0</td>\n",
       "      <td>Y</td>\n",
       "      <td>15</td>\n",
       "      <td>8</td>\n",
       "      <td>3</td>\n",
       "      <td>5.0</td>\n",
       "      <td>2</td>\n",
       "      <td>5</td>\n",
       "      <td>0</td>\n",
       "      <td>3</td>\n",
       "    </tr>\n",
       "  </tbody>\n",
       "</table>\n",
       "<p>3 rows × 24 columns</p>\n",
       "</div>"
      ],
      "text/plain": [
       "   Age Attrition     BusinessTravel              Department  DistanceFromHome  \\\n",
       "0   51        No      Travel_Rarely                   Sales                 6   \n",
       "1   31       Yes  Travel_Frequently  Research & Development                10   \n",
       "2   32        No  Travel_Frequently  Research & Development                17   \n",
       "\n",
       "   Education EducationField  EmployeeCount  EmployeeID  Gender  ...  \\\n",
       "0          2  Life Sciences              1           1  Female  ...   \n",
       "1          1  Life Sciences              1           2  Female  ...   \n",
       "2          4          Other              1           3    Male  ...   \n",
       "\n",
       "   NumCompaniesWorked Over18 PercentSalaryHike  StandardHours  \\\n",
       "0                 1.0      Y                11              8   \n",
       "1                 0.0      Y                23              8   \n",
       "2                 1.0      Y                15              8   \n",
       "\n",
       "   StockOptionLevel TotalWorkingYears  TrainingTimesLastYear  YearsAtCompany  \\\n",
       "0                 0               1.0                      6               1   \n",
       "1                 1               6.0                      3               5   \n",
       "2                 3               5.0                      2               5   \n",
       "\n",
       "   YearsSinceLastPromotion  YearsWithCurrManager  \n",
       "0                        0                     0  \n",
       "1                        1                     4  \n",
       "2                        0                     3  \n",
       "\n",
       "[3 rows x 24 columns]"
      ]
     },
     "execution_count": 2,
     "metadata": {},
     "output_type": "execute_result"
    }
   ],
   "source": [
    "''' Reading the attrition Datafile'''\n",
    "df=pd.read_csv(\"attrition.csv\")\n",
    "df.head(3)"
   ]
  },
  {
   "cell_type": "code",
   "execution_count": 3,
   "metadata": {},
   "outputs": [
    {
     "data": {
      "text/plain": [
       "Index(['Age', 'Attrition', 'BusinessTravel', 'Department', 'DistanceFromHome',\n",
       "       'Education', 'EducationField', 'EmployeeCount', 'EmployeeID', 'Gender',\n",
       "       'JobLevel', 'JobRole', 'MaritalStatus', 'MonthlyIncome',\n",
       "       'NumCompaniesWorked', 'Over18', 'PercentSalaryHike', 'StandardHours',\n",
       "       'StockOptionLevel', 'TotalWorkingYears', 'TrainingTimesLastYear',\n",
       "       'YearsAtCompany', 'YearsSinceLastPromotion', 'YearsWithCurrManager'],\n",
       "      dtype='object')"
      ]
     },
     "execution_count": 3,
     "metadata": {},
     "output_type": "execute_result"
    }
   ],
   "source": [
    "df.columns"
   ]
  },
  {
   "cell_type": "code",
   "execution_count": 4,
   "metadata": {},
   "outputs": [
    {
     "data": {
      "text/html": [
       "<div>\n",
       "<style scoped>\n",
       "    .dataframe tbody tr th:only-of-type {\n",
       "        vertical-align: middle;\n",
       "    }\n",
       "\n",
       "    .dataframe tbody tr th {\n",
       "        vertical-align: top;\n",
       "    }\n",
       "\n",
       "    .dataframe thead th {\n",
       "        text-align: right;\n",
       "    }\n",
       "</style>\n",
       "<table border=\"1\" class=\"dataframe\">\n",
       "  <thead>\n",
       "    <tr style=\"text-align: right;\">\n",
       "      <th></th>\n",
       "      <th>Age</th>\n",
       "      <th>Attrition</th>\n",
       "      <th>BusinessTravel</th>\n",
       "      <th>Department</th>\n",
       "      <th>DistanceFromHome</th>\n",
       "      <th>Education</th>\n",
       "      <th>EducationField</th>\n",
       "      <th>EmployeeCount</th>\n",
       "      <th>EmployeeID</th>\n",
       "      <th>Gender</th>\n",
       "      <th>...</th>\n",
       "      <th>NumCompaniesWorked</th>\n",
       "      <th>Over18</th>\n",
       "      <th>PercentSalaryHike</th>\n",
       "      <th>StandardHours</th>\n",
       "      <th>StockOptionLevel</th>\n",
       "      <th>TotalWorkingYears</th>\n",
       "      <th>TrainingTimesLastYear</th>\n",
       "      <th>YearsAtCompany</th>\n",
       "      <th>YearsSinceLastPromotion</th>\n",
       "      <th>YearsWithCurrManager</th>\n",
       "    </tr>\n",
       "  </thead>\n",
       "  <tbody>\n",
       "    <tr>\n",
       "      <th>0</th>\n",
       "      <td>51</td>\n",
       "      <td>No</td>\n",
       "      <td>Travel_Rarely</td>\n",
       "      <td>Sales</td>\n",
       "      <td>6</td>\n",
       "      <td>2</td>\n",
       "      <td>Life Sciences</td>\n",
       "      <td>1</td>\n",
       "      <td>1</td>\n",
       "      <td>Female</td>\n",
       "      <td>...</td>\n",
       "      <td>1.0</td>\n",
       "      <td>Y</td>\n",
       "      <td>11</td>\n",
       "      <td>8</td>\n",
       "      <td>0</td>\n",
       "      <td>1.0</td>\n",
       "      <td>6</td>\n",
       "      <td>1</td>\n",
       "      <td>0</td>\n",
       "      <td>0</td>\n",
       "    </tr>\n",
       "    <tr>\n",
       "      <th>1</th>\n",
       "      <td>31</td>\n",
       "      <td>Yes</td>\n",
       "      <td>Travel_Frequently</td>\n",
       "      <td>Research &amp; Development</td>\n",
       "      <td>10</td>\n",
       "      <td>1</td>\n",
       "      <td>Life Sciences</td>\n",
       "      <td>1</td>\n",
       "      <td>2</td>\n",
       "      <td>Female</td>\n",
       "      <td>...</td>\n",
       "      <td>0.0</td>\n",
       "      <td>Y</td>\n",
       "      <td>23</td>\n",
       "      <td>8</td>\n",
       "      <td>1</td>\n",
       "      <td>6.0</td>\n",
       "      <td>3</td>\n",
       "      <td>5</td>\n",
       "      <td>1</td>\n",
       "      <td>4</td>\n",
       "    </tr>\n",
       "  </tbody>\n",
       "</table>\n",
       "<p>2 rows × 24 columns</p>\n",
       "</div>"
      ],
      "text/plain": [
       "   Age Attrition     BusinessTravel              Department  DistanceFromHome  \\\n",
       "0   51        No      Travel_Rarely                   Sales                 6   \n",
       "1   31       Yes  Travel_Frequently  Research & Development                10   \n",
       "\n",
       "   Education EducationField  EmployeeCount  EmployeeID  Gender  ...  \\\n",
       "0          2  Life Sciences              1           1  Female  ...   \n",
       "1          1  Life Sciences              1           2  Female  ...   \n",
       "\n",
       "   NumCompaniesWorked Over18 PercentSalaryHike  StandardHours  \\\n",
       "0                 1.0      Y                11              8   \n",
       "1                 0.0      Y                23              8   \n",
       "\n",
       "   StockOptionLevel TotalWorkingYears  TrainingTimesLastYear  YearsAtCompany  \\\n",
       "0                 0               1.0                      6               1   \n",
       "1                 1               6.0                      3               5   \n",
       "\n",
       "   YearsSinceLastPromotion  YearsWithCurrManager  \n",
       "0                        0                     0  \n",
       "1                        1                     4  \n",
       "\n",
       "[2 rows x 24 columns]"
      ]
     },
     "execution_count": 4,
     "metadata": {},
     "output_type": "execute_result"
    }
   ],
   "source": [
    "df.duplicated()\n",
    "df.drop_duplicates()\n",
    "df.head(2)"
   ]
  },
  {
   "cell_type": "code",
   "execution_count": 5,
   "metadata": {},
   "outputs": [
    {
     "name": "stdout",
     "output_type": "stream",
     "text": [
      "<class 'pandas.core.frame.DataFrame'>\n",
      "RangeIndex: 4410 entries, 0 to 4409\n",
      "Data columns (total 24 columns):\n",
      " #   Column                   Non-Null Count  Dtype  \n",
      "---  ------                   --------------  -----  \n",
      " 0   Age                      4410 non-null   int64  \n",
      " 1   Attrition                4410 non-null   object \n",
      " 2   BusinessTravel           4410 non-null   object \n",
      " 3   Department               4410 non-null   object \n",
      " 4   DistanceFromHome         4410 non-null   int64  \n",
      " 5   Education                4410 non-null   int64  \n",
      " 6   EducationField           4410 non-null   object \n",
      " 7   EmployeeCount            4410 non-null   int64  \n",
      " 8   EmployeeID               4410 non-null   int64  \n",
      " 9   Gender                   4410 non-null   object \n",
      " 10  JobLevel                 4410 non-null   int64  \n",
      " 11  JobRole                  4410 non-null   object \n",
      " 12  MaritalStatus            4410 non-null   object \n",
      " 13  MonthlyIncome            4410 non-null   int64  \n",
      " 14  NumCompaniesWorked       4391 non-null   float64\n",
      " 15  Over18                   4410 non-null   object \n",
      " 16  PercentSalaryHike        4410 non-null   int64  \n",
      " 17  StandardHours            4410 non-null   int64  \n",
      " 18  StockOptionLevel         4410 non-null   int64  \n",
      " 19  TotalWorkingYears        4401 non-null   float64\n",
      " 20  TrainingTimesLastYear    4410 non-null   int64  \n",
      " 21  YearsAtCompany           4410 non-null   int64  \n",
      " 22  YearsSinceLastPromotion  4410 non-null   int64  \n",
      " 23  YearsWithCurrManager     4410 non-null   int64  \n",
      "dtypes: float64(2), int64(14), object(8)\n",
      "memory usage: 827.0+ KB\n"
     ]
    }
   ],
   "source": [
    "df.info()"
   ]
  },
  {
   "cell_type": "markdown",
   "metadata": {},
   "source": [
    "___so there is null values in the (NumCompaniesWorked) and (TotalWorkingYears) columns___"
   ]
  },
  {
   "cell_type": "code",
   "execution_count": 6,
   "metadata": {},
   "outputs": [
    {
     "name": "stdout",
     "output_type": "stream",
     "text": [
      "<class 'pandas.core.frame.DataFrame'>\n",
      "RangeIndex: 4410 entries, 0 to 4409\n",
      "Data columns (total 24 columns):\n",
      " #   Column                   Non-Null Count  Dtype  \n",
      "---  ------                   --------------  -----  \n",
      " 0   Age                      4410 non-null   int64  \n",
      " 1   Attrition                4410 non-null   object \n",
      " 2   BusinessTravel           4410 non-null   object \n",
      " 3   Department               4410 non-null   object \n",
      " 4   DistanceFromHome         4410 non-null   int64  \n",
      " 5   Education                4410 non-null   int64  \n",
      " 6   EducationField           4410 non-null   object \n",
      " 7   EmployeeCount            4410 non-null   int64  \n",
      " 8   EmployeeID               4410 non-null   int64  \n",
      " 9   Gender                   4410 non-null   object \n",
      " 10  JobLevel                 4410 non-null   int64  \n",
      " 11  JobRole                  4410 non-null   object \n",
      " 12  MaritalStatus            4410 non-null   object \n",
      " 13  MonthlyIncome            4410 non-null   int64  \n",
      " 14  NumCompaniesWorked       4410 non-null   float64\n",
      " 15  Over18                   4410 non-null   object \n",
      " 16  PercentSalaryHike        4410 non-null   int64  \n",
      " 17  StandardHours            4410 non-null   int64  \n",
      " 18  StockOptionLevel         4410 non-null   int64  \n",
      " 19  TotalWorkingYears        4410 non-null   float64\n",
      " 20  TrainingTimesLastYear    4410 non-null   int64  \n",
      " 21  YearsAtCompany           4410 non-null   int64  \n",
      " 22  YearsSinceLastPromotion  4410 non-null   int64  \n",
      " 23  YearsWithCurrManager     4410 non-null   int64  \n",
      "dtypes: float64(2), int64(14), object(8)\n",
      "memory usage: 827.0+ KB\n"
     ]
    }
   ],
   "source": [
    "'''interpolating the null values'''\n",
    "df.TotalWorkingYears=df.TotalWorkingYears.interpolate()\n",
    "df.NumCompaniesWorked=df.NumCompaniesWorked.interpolate()\n",
    "df.info()"
   ]
  },
  {
   "cell_type": "markdown",
   "metadata": {},
   "source": [
    "___So after the interpolation now there is no null values in the entire dataset as there are 4410 non-null values in every columns___"
   ]
  },
  {
   "cell_type": "code",
   "execution_count": 7,
   "metadata": {},
   "outputs": [
    {
     "data": {
      "text/html": [
       "<div>\n",
       "<style scoped>\n",
       "    .dataframe tbody tr th:only-of-type {\n",
       "        vertical-align: middle;\n",
       "    }\n",
       "\n",
       "    .dataframe tbody tr th {\n",
       "        vertical-align: top;\n",
       "    }\n",
       "\n",
       "    .dataframe thead th {\n",
       "        text-align: right;\n",
       "    }\n",
       "</style>\n",
       "<table border=\"1\" class=\"dataframe\">\n",
       "  <thead>\n",
       "    <tr style=\"text-align: right;\">\n",
       "      <th></th>\n",
       "      <th>Age</th>\n",
       "      <th>DistanceFromHome</th>\n",
       "      <th>Education</th>\n",
       "      <th>EmployeeCount</th>\n",
       "      <th>EmployeeID</th>\n",
       "      <th>JobLevel</th>\n",
       "      <th>MonthlyIncome</th>\n",
       "      <th>NumCompaniesWorked</th>\n",
       "      <th>PercentSalaryHike</th>\n",
       "      <th>StandardHours</th>\n",
       "      <th>StockOptionLevel</th>\n",
       "      <th>TotalWorkingYears</th>\n",
       "      <th>TrainingTimesLastYear</th>\n",
       "      <th>YearsAtCompany</th>\n",
       "      <th>YearsSinceLastPromotion</th>\n",
       "      <th>YearsWithCurrManager</th>\n",
       "    </tr>\n",
       "  </thead>\n",
       "  <tbody>\n",
       "    <tr>\n",
       "      <th>count</th>\n",
       "      <td>4410.000000</td>\n",
       "      <td>4410.000000</td>\n",
       "      <td>4410.000000</td>\n",
       "      <td>4410.0</td>\n",
       "      <td>4410.000000</td>\n",
       "      <td>4410.000000</td>\n",
       "      <td>4410.000000</td>\n",
       "      <td>4410.000000</td>\n",
       "      <td>4410.000000</td>\n",
       "      <td>4410.0</td>\n",
       "      <td>4410.000000</td>\n",
       "      <td>4410.000000</td>\n",
       "      <td>4410.000000</td>\n",
       "      <td>4410.000000</td>\n",
       "      <td>4410.000000</td>\n",
       "      <td>4410.000000</td>\n",
       "    </tr>\n",
       "    <tr>\n",
       "      <th>mean</th>\n",
       "      <td>36.923810</td>\n",
       "      <td>9.192517</td>\n",
       "      <td>2.912925</td>\n",
       "      <td>1.0</td>\n",
       "      <td>2205.500000</td>\n",
       "      <td>2.063946</td>\n",
       "      <td>65029.312925</td>\n",
       "      <td>2.692517</td>\n",
       "      <td>15.209524</td>\n",
       "      <td>8.0</td>\n",
       "      <td>0.793878</td>\n",
       "      <td>11.280726</td>\n",
       "      <td>2.799320</td>\n",
       "      <td>7.008163</td>\n",
       "      <td>2.187755</td>\n",
       "      <td>4.123129</td>\n",
       "    </tr>\n",
       "    <tr>\n",
       "      <th>std</th>\n",
       "      <td>9.133301</td>\n",
       "      <td>8.105026</td>\n",
       "      <td>1.023933</td>\n",
       "      <td>0.0</td>\n",
       "      <td>1273.201673</td>\n",
       "      <td>1.106689</td>\n",
       "      <td>47068.888559</td>\n",
       "      <td>2.495792</td>\n",
       "      <td>3.659108</td>\n",
       "      <td>0.0</td>\n",
       "      <td>0.851883</td>\n",
       "      <td>7.778918</td>\n",
       "      <td>1.288978</td>\n",
       "      <td>6.125135</td>\n",
       "      <td>3.221699</td>\n",
       "      <td>3.567327</td>\n",
       "    </tr>\n",
       "    <tr>\n",
       "      <th>min</th>\n",
       "      <td>18.000000</td>\n",
       "      <td>1.000000</td>\n",
       "      <td>1.000000</td>\n",
       "      <td>1.0</td>\n",
       "      <td>1.000000</td>\n",
       "      <td>1.000000</td>\n",
       "      <td>10090.000000</td>\n",
       "      <td>0.000000</td>\n",
       "      <td>11.000000</td>\n",
       "      <td>8.0</td>\n",
       "      <td>0.000000</td>\n",
       "      <td>0.000000</td>\n",
       "      <td>0.000000</td>\n",
       "      <td>0.000000</td>\n",
       "      <td>0.000000</td>\n",
       "      <td>0.000000</td>\n",
       "    </tr>\n",
       "    <tr>\n",
       "      <th>25%</th>\n",
       "      <td>30.000000</td>\n",
       "      <td>2.000000</td>\n",
       "      <td>2.000000</td>\n",
       "      <td>1.0</td>\n",
       "      <td>1103.250000</td>\n",
       "      <td>1.000000</td>\n",
       "      <td>29110.000000</td>\n",
       "      <td>1.000000</td>\n",
       "      <td>12.000000</td>\n",
       "      <td>8.0</td>\n",
       "      <td>0.000000</td>\n",
       "      <td>6.000000</td>\n",
       "      <td>2.000000</td>\n",
       "      <td>3.000000</td>\n",
       "      <td>0.000000</td>\n",
       "      <td>2.000000</td>\n",
       "    </tr>\n",
       "    <tr>\n",
       "      <th>50%</th>\n",
       "      <td>36.000000</td>\n",
       "      <td>7.000000</td>\n",
       "      <td>3.000000</td>\n",
       "      <td>1.0</td>\n",
       "      <td>2205.500000</td>\n",
       "      <td>2.000000</td>\n",
       "      <td>49190.000000</td>\n",
       "      <td>2.000000</td>\n",
       "      <td>14.000000</td>\n",
       "      <td>8.0</td>\n",
       "      <td>1.000000</td>\n",
       "      <td>10.000000</td>\n",
       "      <td>3.000000</td>\n",
       "      <td>5.000000</td>\n",
       "      <td>1.000000</td>\n",
       "      <td>3.000000</td>\n",
       "    </tr>\n",
       "    <tr>\n",
       "      <th>75%</th>\n",
       "      <td>43.000000</td>\n",
       "      <td>14.000000</td>\n",
       "      <td>4.000000</td>\n",
       "      <td>1.0</td>\n",
       "      <td>3307.750000</td>\n",
       "      <td>3.000000</td>\n",
       "      <td>83800.000000</td>\n",
       "      <td>4.000000</td>\n",
       "      <td>18.000000</td>\n",
       "      <td>8.0</td>\n",
       "      <td>1.000000</td>\n",
       "      <td>15.000000</td>\n",
       "      <td>3.000000</td>\n",
       "      <td>9.000000</td>\n",
       "      <td>3.000000</td>\n",
       "      <td>7.000000</td>\n",
       "    </tr>\n",
       "    <tr>\n",
       "      <th>max</th>\n",
       "      <td>60.000000</td>\n",
       "      <td>29.000000</td>\n",
       "      <td>5.000000</td>\n",
       "      <td>1.0</td>\n",
       "      <td>4410.000000</td>\n",
       "      <td>5.000000</td>\n",
       "      <td>199990.000000</td>\n",
       "      <td>9.000000</td>\n",
       "      <td>25.000000</td>\n",
       "      <td>8.0</td>\n",
       "      <td>3.000000</td>\n",
       "      <td>40.000000</td>\n",
       "      <td>6.000000</td>\n",
       "      <td>40.000000</td>\n",
       "      <td>15.000000</td>\n",
       "      <td>17.000000</td>\n",
       "    </tr>\n",
       "  </tbody>\n",
       "</table>\n",
       "</div>"
      ],
      "text/plain": [
       "               Age  DistanceFromHome    Education  EmployeeCount   EmployeeID  \\\n",
       "count  4410.000000       4410.000000  4410.000000         4410.0  4410.000000   \n",
       "mean     36.923810          9.192517     2.912925            1.0  2205.500000   \n",
       "std       9.133301          8.105026     1.023933            0.0  1273.201673   \n",
       "min      18.000000          1.000000     1.000000            1.0     1.000000   \n",
       "25%      30.000000          2.000000     2.000000            1.0  1103.250000   \n",
       "50%      36.000000          7.000000     3.000000            1.0  2205.500000   \n",
       "75%      43.000000         14.000000     4.000000            1.0  3307.750000   \n",
       "max      60.000000         29.000000     5.000000            1.0  4410.000000   \n",
       "\n",
       "          JobLevel  MonthlyIncome  NumCompaniesWorked  PercentSalaryHike  \\\n",
       "count  4410.000000    4410.000000         4410.000000        4410.000000   \n",
       "mean      2.063946   65029.312925            2.692517          15.209524   \n",
       "std       1.106689   47068.888559            2.495792           3.659108   \n",
       "min       1.000000   10090.000000            0.000000          11.000000   \n",
       "25%       1.000000   29110.000000            1.000000          12.000000   \n",
       "50%       2.000000   49190.000000            2.000000          14.000000   \n",
       "75%       3.000000   83800.000000            4.000000          18.000000   \n",
       "max       5.000000  199990.000000            9.000000          25.000000   \n",
       "\n",
       "       StandardHours  StockOptionLevel  TotalWorkingYears  \\\n",
       "count         4410.0       4410.000000        4410.000000   \n",
       "mean             8.0          0.793878          11.280726   \n",
       "std              0.0          0.851883           7.778918   \n",
       "min              8.0          0.000000           0.000000   \n",
       "25%              8.0          0.000000           6.000000   \n",
       "50%              8.0          1.000000          10.000000   \n",
       "75%              8.0          1.000000          15.000000   \n",
       "max              8.0          3.000000          40.000000   \n",
       "\n",
       "       TrainingTimesLastYear  YearsAtCompany  YearsSinceLastPromotion  \\\n",
       "count            4410.000000     4410.000000              4410.000000   \n",
       "mean                2.799320        7.008163                 2.187755   \n",
       "std                 1.288978        6.125135                 3.221699   \n",
       "min                 0.000000        0.000000                 0.000000   \n",
       "25%                 2.000000        3.000000                 0.000000   \n",
       "50%                 3.000000        5.000000                 1.000000   \n",
       "75%                 3.000000        9.000000                 3.000000   \n",
       "max                 6.000000       40.000000                15.000000   \n",
       "\n",
       "       YearsWithCurrManager  \n",
       "count           4410.000000  \n",
       "mean               4.123129  \n",
       "std                3.567327  \n",
       "min                0.000000  \n",
       "25%                2.000000  \n",
       "50%                3.000000  \n",
       "75%                7.000000  \n",
       "max               17.000000  "
      ]
     },
     "execution_count": 7,
     "metadata": {},
     "output_type": "execute_result"
    }
   ],
   "source": [
    "df.describe()"
   ]
  },
  {
   "cell_type": "code",
   "execution_count": 8,
   "metadata": {},
   "outputs": [
    {
     "name": "stdout",
     "output_type": "stream",
     "text": [
      "Age                           36.0\n",
      "DistanceFromHome               7.0\n",
      "Education                      3.0\n",
      "EmployeeCount                  1.0\n",
      "EmployeeID                  2205.5\n",
      "JobLevel                       2.0\n",
      "MonthlyIncome              49190.0\n",
      "NumCompaniesWorked             2.0\n",
      "PercentSalaryHike             14.0\n",
      "StandardHours                  8.0\n",
      "StockOptionLevel               1.0\n",
      "TotalWorkingYears             10.0\n",
      "TrainingTimesLastYear          3.0\n",
      "YearsAtCompany                 5.0\n",
      "YearsSinceLastPromotion        1.0\n",
      "YearsWithCurrManager           3.0\n",
      "dtype: float64\n"
     ]
    }
   ],
   "source": [
    "''' to obtain the median values'''\n",
    "print(df.median())"
   ]
  },
  {
   "cell_type": "code",
   "execution_count": 9,
   "metadata": {},
   "outputs": [
    {
     "name": "stdout",
     "output_type": "stream",
     "text": [
      "Age                           36.923810\n",
      "DistanceFromHome               9.192517\n",
      "Education                      2.912925\n",
      "EmployeeCount                  1.000000\n",
      "EmployeeID                  2205.500000\n",
      "JobLevel                       2.063946\n",
      "MonthlyIncome              65029.312925\n",
      "NumCompaniesWorked             2.692517\n",
      "PercentSalaryHike             15.209524\n",
      "StandardHours                  8.000000\n",
      "StockOptionLevel               0.793878\n",
      "TotalWorkingYears             11.280726\n",
      "TrainingTimesLastYear          2.799320\n",
      "YearsAtCompany                 7.008163\n",
      "YearsSinceLastPromotion        2.187755\n",
      "YearsWithCurrManager           4.123129\n",
      "dtype: float64\n"
     ]
    }
   ],
   "source": [
    "''' to obtain the mean values'''\n",
    "print(df.mean())"
   ]
  },
  {
   "cell_type": "code",
   "execution_count": 10,
   "metadata": {},
   "outputs": [
    {
     "data": {
      "text/html": [
       "<div>\n",
       "<style scoped>\n",
       "    .dataframe tbody tr th:only-of-type {\n",
       "        vertical-align: middle;\n",
       "    }\n",
       "\n",
       "    .dataframe tbody tr th {\n",
       "        vertical-align: top;\n",
       "    }\n",
       "\n",
       "    .dataframe thead th {\n",
       "        text-align: right;\n",
       "    }\n",
       "</style>\n",
       "<table border=\"1\" class=\"dataframe\">\n",
       "  <thead>\n",
       "    <tr style=\"text-align: right;\">\n",
       "      <th></th>\n",
       "      <th>Age</th>\n",
       "      <th>DistanceFromHome</th>\n",
       "      <th>Education</th>\n",
       "      <th>MonthlyIncome</th>\n",
       "      <th>NumCompaniesWorked</th>\n",
       "      <th>PercentSalaryHike</th>\n",
       "      <th>TotalWorkingYears</th>\n",
       "      <th>TrainingTimesLastYear</th>\n",
       "      <th>YearsAtCompany</th>\n",
       "      <th>YearsSinceLastPromotion</th>\n",
       "      <th>YearsWithCurrManager</th>\n",
       "    </tr>\n",
       "  </thead>\n",
       "  <tbody>\n",
       "    <tr>\n",
       "      <th>0</th>\n",
       "      <td>35</td>\n",
       "      <td>2</td>\n",
       "      <td>3</td>\n",
       "      <td>23420</td>\n",
       "      <td>1.0</td>\n",
       "      <td>11</td>\n",
       "      <td>10.0</td>\n",
       "      <td>2</td>\n",
       "      <td>5</td>\n",
       "      <td>0</td>\n",
       "      <td>2</td>\n",
       "    </tr>\n",
       "  </tbody>\n",
       "</table>\n",
       "</div>"
      ],
      "text/plain": [
       "   Age  DistanceFromHome  Education  MonthlyIncome  NumCompaniesWorked  \\\n",
       "0   35                 2          3          23420                 1.0   \n",
       "\n",
       "   PercentSalaryHike  TotalWorkingYears  TrainingTimesLastYear  \\\n",
       "0                 11               10.0                      2   \n",
       "\n",
       "   YearsAtCompany  YearsSinceLastPromotion  YearsWithCurrManager  \n",
       "0               5                        0                     2  "
      ]
     },
     "execution_count": 10,
     "metadata": {},
     "output_type": "execute_result"
    }
   ],
   "source": [
    "'''To obtain the mode of dataset'''\n",
    "df[['Age','DistanceFromHome','Education','MonthlyIncome', 'NumCompaniesWorked', 'PercentSalaryHike','TotalWorkingYears', 'TrainingTimesLastYear', 'YearsAtCompany','YearsSinceLastPromotion', 'YearsWithCurrManager']].mode()"
   ]
  },
  {
   "cell_type": "code",
   "execution_count": 11,
   "metadata": {},
   "outputs": [
    {
     "data": {
      "text/plain": [
       "Age                        8.341719e+01\n",
       "DistanceFromHome           6.569144e+01\n",
       "Education                  1.048438e+00\n",
       "MonthlyIncome              2.215480e+09\n",
       "NumCompaniesWorked         6.228976e+00\n",
       "PercentSalaryHike          1.338907e+01\n",
       "TotalWorkingYears          6.051156e+01\n",
       "TrainingTimesLastYear      1.661465e+00\n",
       "YearsAtCompany             3.751728e+01\n",
       "YearsSinceLastPromotion    1.037935e+01\n",
       "YearsWithCurrManager       1.272582e+01\n",
       "dtype: float64"
      ]
     },
     "execution_count": 11,
     "metadata": {},
     "output_type": "execute_result"
    }
   ],
   "source": [
    "'''To obtain the variance of the dataset'''\n",
    "df[['Age','DistanceFromHome','Education','MonthlyIncome', 'NumCompaniesWorked', 'PercentSalaryHike','TotalWorkingYears', 'TrainingTimesLastYear', 'YearsAtCompany','YearsSinceLastPromotion', 'YearsWithCurrManager']].var()"
   ]
  },
  {
   "cell_type": "code",
   "execution_count": 12,
   "metadata": {},
   "outputs": [
    {
     "data": {
      "text/plain": [
       "Age                        0.413005\n",
       "DistanceFromHome           0.957466\n",
       "Education                 -0.289484\n",
       "MonthlyIncome              1.368884\n",
       "NumCompaniesWorked         1.028896\n",
       "PercentSalaryHike          0.820569\n",
       "TotalWorkingYears          1.115994\n",
       "TrainingTimesLastYear      0.552748\n",
       "YearsAtCompany             1.763328\n",
       "YearsSinceLastPromotion    1.982939\n",
       "YearsWithCurrManager       0.832884\n",
       "dtype: float64"
      ]
     },
     "execution_count": 12,
     "metadata": {},
     "output_type": "execute_result"
    }
   ],
   "source": [
    "'''To check the skewness of the dataset'''\n",
    "df[['Age','DistanceFromHome','Education','MonthlyIncome', 'NumCompaniesWorked', 'PercentSalaryHike','TotalWorkingYears', 'TrainingTimesLastYear', 'YearsAtCompany','YearsSinceLastPromotion', 'YearsWithCurrManager']].skew()"
   ]
  },
  {
   "cell_type": "markdown",
   "metadata": {},
   "source": [
    "___So all the variables except Education has Positive Skewness___"
   ]
  },
  {
   "cell_type": "code",
   "execution_count": 13,
   "metadata": {},
   "outputs": [
    {
     "data": {
      "text/plain": [
       "Age                       -0.405951\n",
       "DistanceFromHome          -0.227045\n",
       "Education                 -0.560569\n",
       "MonthlyIncome              1.000232\n",
       "NumCompaniesWorked         0.014580\n",
       "PercentSalaryHike         -0.302638\n",
       "TotalWorkingYears          0.912654\n",
       "TrainingTimesLastYear      0.491149\n",
       "YearsAtCompany             3.923864\n",
       "YearsSinceLastPromotion    3.601761\n",
       "YearsWithCurrManager       0.167949\n",
       "dtype: float64"
      ]
     },
     "execution_count": 13,
     "metadata": {},
     "output_type": "execute_result"
    }
   ],
   "source": [
    "#to check the Kurtosis of the dataset\n",
    "df[['Age','DistanceFromHome','Education','MonthlyIncome', 'NumCompaniesWorked', 'PercentSalaryHike','TotalWorkingYears', 'TrainingTimesLastYear', 'YearsAtCompany','YearsSinceLastPromotion', 'YearsWithCurrManager']].kurt()"
   ]
  },
  {
   "cell_type": "markdown",
   "metadata": {},
   "source": [
    "___So from the above it is clear that Age, Distance From Home, Education and Percent Salary Hike are leptokurtic while the remaining variables are Platykurtic___"
   ]
  },
  {
   "cell_type": "markdown",
   "metadata": {},
   "source": [
    "# Data Visualization & Statistical Test"
   ]
  },
  {
   "cell_type": "code",
   "execution_count": 14,
   "metadata": {},
   "outputs": [
    {
     "data": {
      "image/png": "[encoded data removed]",
      "text/plain": [
       "<Figure size 432x288 with 1 Axes>"
      ]
     },
     "metadata": {
      "needs_background": "light"
     },
     "output_type": "display_data"
    }
   ],
   "source": [
    "import matplotlib.pyplot as plt\n",
    "b_plot=df.MonthlyIncome\n",
    "plt.boxplot(b_plot, showmeans=True, vert=False)\n",
    "plt.show()"
   ]
  },
  {
   "cell_type": "code",
   "execution_count": 15,
   "metadata": {},
   "outputs": [
    {
     "data": {
      "image/png": "[encoded data removed]",
      "text/plain": [
       "<Figure size 432x288 with 1 Axes>"
      ]
     },
     "metadata": {},
     "output_type": "display_data"
    }
   ],
   "source": [
    "plt.style.use('ggplot')\n",
    "plt.hist(df.MonthlyIncome)\n",
    "plt.show()"
   ]
  },
  {
   "cell_type": "markdown",
   "metadata": {},
   "source": [
    "___So the Monthly Income is Right Skewed with many outliers which indicate that these values are much greater than Mean___"
   ]
  },
  {
   "cell_type": "code",
   "execution_count": 16,
   "metadata": {},
   "outputs": [
    {
     "data": {
      "image/png": "[encoded data removed]",
      "text/plain": [
       "<Figure size 432x288 with 1 Axes>"
      ]
     },
     "metadata": {},
     "output_type": "display_data"
    }
   ],
   "source": [
    "b_plot=df.Age\n",
    "plt.boxplot(b_plot, vert=False,showmeans=True)\n",
    "plt.show()"
   ]
  },
  {
   "cell_type": "code",
   "execution_count": 17,
   "metadata": {},
   "outputs": [
    {
     "data": {
      "image/png": "[encoded data removed]",
      "text/plain": [
       "<Figure size 432x288 with 1 Axes>"
      ]
     },
     "metadata": {},
     "output_type": "display_data"
    }
   ],
   "source": [
    "plt.style.use('ggplot')\n",
    "plt.hist(df.Age)\n",
    "plt.show()"
   ]
  },
  {
   "cell_type": "markdown",
   "metadata": {},
   "source": [
    "___so the Variable Age is Normally distributed with No outliers___"
   ]
  },
  {
   "cell_type": "code",
   "execution_count": 18,
   "metadata": {},
   "outputs": [
    {
     "data": {
      "image/png": "[encoded data removed]",
      "text/plain": [
       "<Figure size 432x288 with 1 Axes>"
      ]
     },
     "metadata": {},
     "output_type": "display_data"
    }
   ],
   "source": [
    "b_plot=df.YearsAtCompany\n",
    "plt.boxplot(b_plot, vert=False,showmeans=True)\n",
    "plt.show()"
   ]
  },
  {
   "cell_type": "code",
   "execution_count": 19,
   "metadata": {},
   "outputs": [
    {
     "data": {
      "image/png": "[encoded data removed]",
      "text/plain": [
       "<Figure size 432x288 with 1 Axes>"
      ]
     },
     "metadata": {},
     "output_type": "display_data"
    }
   ],
   "source": [
    "plt.style.use('ggplot')\n",
    "plt.hist(df.YearsAtCompany)\n",
    "plt.show()"
   ]
  },
  {
   "cell_type": "markdown",
   "metadata": {},
   "source": [
    "___The box plot for column Years at company contains many outliers and it is Right skewed \n",
    " since the median line is below the normal line as for a normal distribution___"
   ]
  },
  {
   "cell_type": "code",
   "execution_count": 20,
   "metadata": {},
   "outputs": [
    {
     "data": {
      "image/png": "[encoded data removed]",
      "text/plain": [
       "<Figure size 432x288 with 1 Axes>"
      ]
     },
     "metadata": {},
     "output_type": "display_data"
    }
   ],
   "source": [
    "b_plot=df.DistanceFromHome\n",
    "plt.boxplot(b_plot,showmeans=True, vert=False)\n",
    "plt.show()"
   ]
  },
  {
   "cell_type": "code",
   "execution_count": 21,
   "metadata": {},
   "outputs": [
    {
     "data": {
      "image/png": "[encoded data removed]",
      "text/plain": [
       "<Figure size 432x288 with 1 Axes>"
      ]
     },
     "metadata": {},
     "output_type": "display_data"
    }
   ],
   "source": [
    "plt.style.use('ggplot')\n",
    "plt.hist(df.DistanceFromHome)\n",
    "plt.show()"
   ]
  },
  {
   "cell_type": "markdown",
   "metadata": {},
   "source": [
    "___The box plot for column Distance from home does not contains any outliers___"
   ]
  },
  {
   "cell_type": "code",
   "execution_count": 22,
   "metadata": {},
   "outputs": [
    {
     "data": {
      "image/png": "[encoded data removed]",
      "text/plain": [
       "<Figure size 432x288 with 1 Axes>"
      ]
     },
     "metadata": {},
     "output_type": "display_data"
    }
   ],
   "source": [
    "b_plot=df.Education\n",
    "plt.boxplot(b_plot,showmeans=True, vert=False)\n",
    "plt.show()"
   ]
  },
  {
   "cell_type": "markdown",
   "metadata": {},
   "source": [
    "___The box plot for column Education does not contains any outliers so it is normally distributed___"
   ]
  },
  {
   "cell_type": "code",
   "execution_count": 23,
   "metadata": {},
   "outputs": [
    {
     "data": {
      "text/plain": [
       "0        No\n",
       "1       Yes\n",
       "2        No\n",
       "3        No\n",
       "4        No\n",
       "       ... \n",
       "4405     No\n",
       "4406     No\n",
       "4407     No\n",
       "4408     No\n",
       "4409     No\n",
       "Name: Attrition, Length: 4410, dtype: object"
      ]
     },
     "execution_count": 23,
     "metadata": {},
     "output_type": "execute_result"
    }
   ],
   "source": [
    "df[\"Attrition\"]"
   ]
  },
  {
   "cell_type": "code",
   "execution_count": 24,
   "metadata": {},
   "outputs": [],
   "source": [
    "df[\"Attrition\"]=df[\"Attrition\"].map({\"No\":0, \"Yes\":1})"
   ]
  },
  {
   "cell_type": "markdown",
   "metadata": {},
   "source": [
    "## Correlation"
   ]
  },
  {
   "cell_type": "markdown",
   "metadata": {},
   "source": [
    "### Attrition vs Age"
   ]
  },
  {
   "cell_type": "code",
   "execution_count": 25,
   "metadata": {},
   "outputs": [
    {
     "name": "stdout",
     "output_type": "stream",
     "text": [
      "-0.15920500686577943 1.996801615887666e-26\n",
      "Null Hypothesis will be Rejected and thus Alternate hypothesis will be Accepted \n",
      " Therefore  Attrition and Age has correlation\n"
     ]
    }
   ],
   "source": [
    "from scipy.stats import pearsonr\n",
    "stats,p=pearsonr(df.Age,df.Attrition)\n",
    "H0= \"Attrition and Age has no correlation\"\n",
    "H1=\"Attrition and Age has correlation\"\n",
    "print(stats,p)\n",
    "if (p<0.05):\n",
    "    print(\"Null Hypothesis will be Rejected and thus Alternate hypothesis will be Accepted\",\"\\n Therefore \", H1)\n",
    "else:\n",
    "    print(\"Null Hypothesis will be Accepted\",\"\\n\",H0)"
   ]
  },
  {
   "cell_type": "markdown",
   "metadata": {},
   "source": [
    "### Attrition vs Monthly Income"
   ]
  },
  {
   "cell_type": "code",
   "execution_count": 26,
   "metadata": {},
   "outputs": [
    {
     "name": "stdout",
     "output_type": "stream",
     "text": [
      "-0.031176281698115017 0.03842748490600132\n",
      "Null Hypothesis will be Rejected and thus Alternate hypothesis will be Accepted \n",
      "Therefore Attrition and Monthly Income has correlation\n"
     ]
    }
   ],
   "source": [
    "H0=\"Attrition and Monthly Income has no correlation\"\n",
    "H1=\"Attrition and Monthly Income has correlation\"\n",
    "\n",
    "stats,p=pearsonr(df.Attrition,df.MonthlyIncome)\n",
    "print(stats,p)\n",
    "if (p<0.05):\n",
    "    print(\"Null Hypothesis will be Rejected and thus Alternate hypothesis will be Accepted\",\"\\nTherefore\",H1)\n",
    "else:\n",
    "    print(\"Null Hypothesis will be Accepted\", \"\\n\", H0)\n",
    "        "
   ]
  },
  {
   "cell_type": "markdown",
   "metadata": {},
   "source": [
    "### Attrition vs Distance From Home"
   ]
  },
  {
   "cell_type": "code",
   "execution_count": 27,
   "metadata": {},
   "outputs": [
    {
     "name": "stdout",
     "output_type": "stream",
     "text": [
      "-0.00973014101017969 0.5182860428050771\n",
      "Null Hypothesis will be Accepted \n",
      " Attrition and Distance From Home has no correlation\n"
     ]
    }
   ],
   "source": [
    "H0=\"Attrition and Distance From Home has no correlation\"\n",
    "H1=\"Attrition and Distance From Home has correlation\"\n",
    "\n",
    "stats,p=pearsonr(df.Attrition,df.DistanceFromHome )\n",
    "print(stats,p)\n",
    "if (p<0.05):\n",
    "    print(\"Null Hypothesis will be Rejected and thus Alternate hypothesis will be Accepted\",\"\\n\",H1)\n",
    "else:\n",
    "    print(\"Null Hypothesis will be Accepted\",\"\\n\",H0)\n",
    "        "
   ]
  },
  {
   "cell_type": "markdown",
   "metadata": {},
   "source": [
    "### Attrition vs Education"
   ]
  },
  {
   "cell_type": "code",
   "execution_count": 28,
   "metadata": {},
   "outputs": [
    {
     "name": "stdout",
     "output_type": "stream",
     "text": [
      "-0.01511116771096876 0.3157293177118575\n",
      "Null Hypothesis will be Accepted \n",
      "Therefore Attrition and Education has no correlation\n"
     ]
    }
   ],
   "source": [
    "H0=\"Attrition and Education has no correlation\"\n",
    "H1=\"Attrition and Education has correlation\"\n",
    "\n",
    "stats,p=pearsonr(df.Attrition,df.Education)\n",
    "print(stats,p)\n",
    "if (p<0.05):\n",
    "    print(\"Null Hypothesis will be Rejected and thus Alternate hypothesis will be Accepted\",\"\\n\",H1)\n",
    "else:\n",
    "    print(\"Null Hypothesis will be Accepted\",\"\\nTherefore\",H0)\n",
    "        "
   ]
  },
  {
   "cell_type": "markdown",
   "metadata": {},
   "source": [
    "### Attrition vs Percentage Salary Hike"
   ]
  },
  {
   "cell_type": "code",
   "execution_count": 29,
   "metadata": {},
   "outputs": [
    {
     "name": "stdout",
     "output_type": "stream",
     "text": [
      "0.032532594891053514 0.030743386433355353\n",
      "Null Hypothesis will be Rejected and thus Alternate hypothesis will be Accepted \n",
      "Therefore Attrition and Percentage Salary Hike has correlation\n"
     ]
    }
   ],
   "source": [
    "H0=\"Attrition and Percentage Salary Hike has no correlation\"\n",
    "H1=\"Attrition and Percentage Salary Hike has correlation\"\n",
    "\n",
    "stats,p=pearsonr(df.Attrition,df.PercentSalaryHike)\n",
    "print(stats,p)\n",
    "if (p<0.05):\n",
    "    print(\"Null Hypothesis will be Rejected and thus Alternate hypothesis will be Accepted\",\"\\nTherefore\",H1)\n",
    "else:\n",
    "    print(\"Null Hypothesis will be Accepted\",\"\\nTherefore\",H0)\n",
    "        "
   ]
  },
  {
   "cell_type": "markdown",
   "metadata": {},
   "source": [
    "### Attrition vs Total Working Years"
   ]
  },
  {
   "cell_type": "code",
   "execution_count": 30,
   "metadata": {},
   "outputs": [
    {
     "name": "stdout",
     "output_type": "stream",
     "text": [
      "-0.17029691465907898 4.73706453353432e-30\n",
      "Null Hypothesis will be Rejected and thus Alternate hypothesis will be Accepted \n",
      "Therefore Attrition and Total Working years has correlation\n"
     ]
    }
   ],
   "source": [
    "H0=\"Attrition and  Total working years has no correlation\"\n",
    "H1=\"Attrition and Total Working years has correlation\"\n",
    "\n",
    "stats,p=pearsonr(df.Attrition,df.TotalWorkingYears)\n",
    "print(stats,p)\n",
    "if (p<0.05):\n",
    "    print(\"Null Hypothesis will be Rejected and thus Alternate hypothesis will be Accepted\",\"\\nTherefore\",H1)\n",
    "else:\n",
    "    print(\"Null Hypothesis will be Accepted\",\"\\n\",H0)\n",
    "        "
   ]
  },
  {
   "cell_type": "markdown",
   "metadata": {},
   "source": [
    "### Attrition vs Training Times Last Year"
   ]
  },
  {
   "cell_type": "code",
   "execution_count": 31,
   "metadata": {},
   "outputs": [
    {
     "name": "stdout",
     "output_type": "stream",
     "text": [
      "-0.04943057624425494 0.0010247061915365072\n",
      "Null Hypothesis will be Rejected and thus Alternate hypothesis will be Accepted \n",
      "Therefore Attrition and Training Times Last Year has correlation\n"
     ]
    }
   ],
   "source": [
    "H0=\"Attrition and  Training Times Last Year has no correlation\"\n",
    "H1=\"Attrition and Training Times Last Year has correlation\"\n",
    "\n",
    "stats,p=pearsonr(df.Attrition,df.TrainingTimesLastYear)\n",
    "print(stats,p)\n",
    "if (p<0.05):\n",
    "    print(\"Null Hypothesis will be Rejected and thus Alternate hypothesis will be Accepted\",\"\\nTherefore\",H1)\n",
    "else:\n",
    "    print(\"Null Hypothesis will be Accepted\",\"\\n\",H0)\n",
    "        "
   ]
  },
  {
   "cell_type": "markdown",
   "metadata": {},
   "source": [
    "### Attrition vs Years At Company"
   ]
  },
  {
   "cell_type": "code",
   "execution_count": 32,
   "metadata": {},
   "outputs": [
    {
     "name": "stdout",
     "output_type": "stream",
     "text": [
      "-0.04943057624425494 0.0010247061915365072\n",
      "Null Hypothesis will be Rejected and thus Alternate hypothesis will be Accepted \n",
      "Therefore Attrition and Years At Company has correlation\n"
     ]
    }
   ],
   "source": [
    "H0=\"Attrition and  Years At Company has no correlation\"\n",
    "H1=\"Attrition and Years At Company has correlation\"\n",
    "\n",
    "stats,p=pearsonr(df.Attrition,df.TrainingTimesLastYear)\n",
    "print(stats,p)\n",
    "if (p<0.05):\n",
    "    print(\"Null Hypothesis will be Rejected and thus Alternate hypothesis will be Accepted\",\"\\nTherefore\",H1)\n",
    "else:\n",
    "    print(\"Null Hypothesis will be Accepted\",\"\\nTherefore\",H0)\n",
    "        "
   ]
  },
  {
   "cell_type": "markdown",
   "metadata": {},
   "source": [
    "### Attrition vs Years Since Last Promotion"
   ]
  },
  {
   "cell_type": "code",
   "execution_count": 33,
   "metadata": {},
   "outputs": [
    {
     "name": "stdout",
     "output_type": "stream",
     "text": [
      "-0.03301877514258435 0.028330336189396753\n",
      "Null Hypothesis will be Rejected and thus Alternate hypothesis will be Accepted \n",
      "Therefore Attrition and Years Since Last Promotion has correlation\n"
     ]
    }
   ],
   "source": [
    "H0=\"Attrition and Years Since Last Promotion has no correlation\"\n",
    "H1=\"Attrition and Years Since Last Promotion has correlation\"\n",
    "\n",
    "stats,p=pearsonr(df.Attrition,df.YearsSinceLastPromotion)\n",
    "print(stats,p)\n",
    "if (p<0.05):\n",
    "    print(\"Null Hypothesis will be Rejected and thus Alternate hypothesis will be Accepted\",\"\\nTherefore\",H1)\n",
    "else:\n",
    "    print(\"Null Hypothesis will be Accepted\",\"\\nTherefore\",H0)\n",
    "        "
   ]
  },
  {
   "cell_type": "markdown",
   "metadata": {},
   "source": [
    "### Attrition vs Number of years under Current Manager"
   ]
  },
  {
   "cell_type": "code",
   "execution_count": 34,
   "metadata": {},
   "outputs": [
    {
     "name": "stdout",
     "output_type": "stream",
     "text": [
      "-0.1561993159016281 1.7339322652904162e-25\n",
      "Null Hypothesis will be Rejected and thus Alternate hypothesis will be Accepted \n",
      " Attrition and Number of years under current manager has correlation\n"
     ]
    }
   ],
   "source": [
    "H0=\"Attrition and Number of years under current manager has no correlation\"\n",
    "H1=\"Attrition and Number of years under current manager has correlation\"\n",
    "\n",
    "stats,p=pearsonr(df.Attrition,df.YearsWithCurrManager)\n",
    "print(stats,p)\n",
    "if (p<0.05):\n",
    "    print(\"Null Hypothesis will be Rejected and thus Alternate hypothesis will be Accepted\",\"\\n\",H1)\n",
    "else:\n",
    "    print(\"Null Hypothesis will be Accepted\",\"\\n\",H0)\n",
    "        "
   ]
  },
  {
   "cell_type": "markdown",
   "metadata": {},
   "source": [
    "### Mann Whitney Test"
   ]
  },
  {
   "cell_type": "code",
   "execution_count": 35,
   "metadata": {},
   "outputs": [],
   "source": [
    "from sklearn import preprocessing\n",
    "Label_encoder=preprocessing.LabelBinarizer()\n",
    "df[\"Attrition\"]=Label_encoder.fit_transform(df[\"Attrition\"])\n",
    "df1=df[df[\"Attrition\"]==0] #No will be replaced by 0\n",
    "df2=df[df[\"Attrition\"]==1]  #Yes will be replaced by 1"
   ]
  },
  {
   "cell_type": "markdown",
   "metadata": {},
   "source": [
    "### Atrrition (Yes or No) vs Distance from Home"
   ]
  },
  {
   "cell_type": "code",
   "execution_count": 36,
   "metadata": {},
   "outputs": [
    {
     "name": "stdout",
     "output_type": "stream",
     "text": [
      "1312110.0 0.4629185205822659\n",
      "Null Hypothesis accepted  \n",
      "H0: There is no significant difference in the Distance from Home when attrition is yes or no\n"
     ]
    }
   ],
   "source": [
    "from scipy.stats import mannwhitneyu\n",
    "stats,p=mannwhitneyu(df1.DistanceFromHome,df2.DistanceFromHome)\n",
    "print(stats,p)\n",
    "H0=\"There is no significant difference in the Distance from Home when attrition is yes or no\"\n",
    "H1=\"There is significant difference in the Distance from Home when attrition is yes or no\"\n",
    "if p<0.05:\n",
    "    print(\"Null Hypothesis Rejected\",\" \\nAccepted Alternate Hypothesis H1:\",H1)\n",
    "else:\n",
    "    print(\"Null Hypothesis accepted \",\"\\nH0:\",H0)"
   ]
  },
  {
   "cell_type": "code",
   "execution_count": 37,
   "metadata": {},
   "outputs": [
    {
     "data": {
      "image/png": "[encoded data removed]",
      "text/plain": [
       "<Figure size 432x288 with 1 Axes>"
      ]
     },
     "metadata": {},
     "output_type": "display_data"
    }
   ],
   "source": [
    "import seaborn as sns\n",
    "sns.countplot(x=\"DistanceFromHome\",hue=\"Attrition\",data=df)\n",
    "plt.title(\"Distance From Home vs Attrition\")\n",
    "plt.show()\n"
   ]
  },
  {
   "cell_type": "markdown",
   "metadata": {},
   "source": [
    "### Attrition (Yes or No) vs Age"
   ]
  },
  {
   "cell_type": "code",
   "execution_count": 38,
   "metadata": {},
   "outputs": [
    {
     "name": "stdout",
     "output_type": "stream",
     "text": [
      "961731.0 2.9951588479067175e-30\n",
      "Null Hypothesis Rejected  \n",
      "Accepted Alternate Hypothesis H1: There is significant difference in the Age when attrition is yes or no\n"
     ]
    }
   ],
   "source": [
    "stats,p=mannwhitneyu(df1.Age,df2.Age)\n",
    "print(stats,p)\n",
    "H0=\"There is no significant difference in the Age when attrition is yes or no\"\n",
    "H1=\"There is significant difference in the Age when attrition is yes or no\"\n",
    "if p<0.05:\n",
    "    print(\"Null Hypothesis Rejected\",\" \\nAccepted Alternate Hypothesis H1:\",H1)\n",
    "else:\n",
    "    print(\"Null Hypothesis accepted \",\"\\nH0:\",H0)"
   ]
  },
  {
   "cell_type": "code",
   "execution_count": 39,
   "metadata": {},
   "outputs": [
    {
     "data": {
      "image/png": "[encoded data removed]",
      "text/plain": [
       "<Figure size 432x288 with 1 Axes>"
      ]
     },
     "metadata": {},
     "output_type": "display_data"
    }
   ],
   "source": [
    "sns.countplot(x=\"Age\",hue=\"Attrition\",data=df)\n",
    "plt.title(\"Age vs Attrition\")\n",
    "plt.show()"
   ]
  },
  {
   "cell_type": "markdown",
   "metadata": {},
   "source": [
    "### Atrrition (Yes or No) vs Monthly Income"
   ]
  },
  {
   "cell_type": "code",
   "execution_count": 40,
   "metadata": {},
   "outputs": [
    {
     "name": "stdout",
     "output_type": "stream",
     "text": [
      "1264900.5 0.053577283839938566\n",
      "Null Hypothesis accepted  \n",
      "H0: There is no significant difference in the Monthly income when attrition is yes or no\n"
     ]
    }
   ],
   "source": [
    "stats,p=mannwhitneyu(df1.MonthlyIncome,df2.MonthlyIncome)\n",
    "print(stats,p)\n",
    "H0=\"There is no significant difference in the Monthly income when attrition is yes or no\"\n",
    "H1=\"There is significant difference in the Monthly Income when attrition is yes or no\"\n",
    "if p<0.05:\n",
    "    print(\"Null Hypothesis Rejected\",\" \\nAccepted Alternate Hypothesis H1:\",H1)\n",
    "else:\n",
    "    print(\"Null Hypothesis accepted \",\"\\nH0:\",H0)"
   ]
  },
  {
   "cell_type": "code",
   "execution_count": null,
   "metadata": {},
   "outputs": [],
   "source": [
    "sns.countplot(x=\"MonthlyIncome\",hue=\"Attrition\",data=df)\n",
    "plt.title(\"Monthly Income vs Attrition\")\n",
    "plt.show()"
   ]
  },
  {
   "cell_type": "code",
   "execution_count": null,
   "metadata": {},
   "outputs": [],
   "source": [
    "df[\"MonthlyIncome\"].describe()"
   ]
  },
  {
   "cell_type": "markdown",
   "metadata": {},
   "source": [
    "### Atrrition (Yes or No) vs Education"
   ]
  },
  {
   "cell_type": "code",
   "execution_count": null,
   "metadata": {},
   "outputs": [],
   "source": [
    "stats,p=mannwhitneyu(df1.Education,df2.Education)\n",
    "print(stats,p)\n",
    "H0=\"There is no significant difference in the Education when attrition is yes or no\"\n",
    "H1=\"There is significant difference in the Education when attrition is yes or no\"\n",
    "if p<0.05:\n",
    "    print(\"Null Hypothesis Rejected\",\" \\nAccepted Alternate Hypothesis H1:\",H1)\n",
    "else:\n",
    "    print(\"Null Hypothesis accepted \",\"\\nH0:\",H0)"
   ]
  },
  {
   "cell_type": "code",
   "execution_count": null,
   "metadata": {},
   "outputs": [],
   "source": [
    "sns.countplot(x=\"Education\",hue=\"Attrition\",data=df)\n",
    "plt.title(\"Education vs Attrition\")\n",
    "plt.show()"
   ]
  },
  {
   "cell_type": "markdown",
   "metadata": {},
   "source": [
    "### Atrrition (Yes or No) vs Percentage Salary Hike"
   ]
  },
  {
   "cell_type": "code",
   "execution_count": null,
   "metadata": {},
   "outputs": [],
   "source": [
    "stats,p=mannwhitneyu(df1.PercentSalaryHike,df2.PercentSalaryHike)\n",
    "print(stats,p)\n",
    "H0=\"There is no significant difference in the Percentage Salary Hike  when attrition is yes or no\"\n",
    "H1=\"There is significant difference in the Percentage Salary Hike when attrition is yes or no\"\n",
    "if p<0.05:\n",
    "    print(\"Null Hypothesis Rejected\",\" \\nAccepted Alternate Hypothesis H1:\",H1)\n",
    "else:\n",
    "    print(\"Null Hypothesis accepted \",\"\\nH0:\",H0)"
   ]
  },
  {
   "cell_type": "code",
   "execution_count": null,
   "metadata": {},
   "outputs": [],
   "source": [
    "sns.countplot(x=\"PercentSalaryHike\",hue=\"Attrition\",data=df)\n",
    "plt.title(\"Percent Salary Hike vs Attrition\")\n",
    "plt.show()"
   ]
  },
  {
   "cell_type": "markdown",
   "metadata": {},
   "source": [
    "### Atrrition (Yes or No) vs Total Working Years"
   ]
  },
  {
   "cell_type": "code",
   "execution_count": null,
   "metadata": {},
   "outputs": [],
   "source": [
    "stats,p=mannwhitneyu(df1.TotalWorkingYears,df2.TotalWorkingYears)\n",
    "print(stats,p)\n",
    "H0=\"There is no significant difference in the Total Working Years when attrition is yes or no\"\n",
    "H1=\"There is significant difference in the Total Working Years when attrition is yes or no\"\n",
    "if p<0.05:\n",
    "    print(\"Null Hypothesis Rejected\",\" \\nAccepted Alternate Hypothesis H1:\\n\",H1)\n",
    "else:\n",
    "    print(\"Null Hypothesis accepted \",\"\\nH0:\",H0)"
   ]
  },
  {
   "cell_type": "code",
   "execution_count": null,
   "metadata": {},
   "outputs": [],
   "source": [
    "sns.countplot(x=\"TotalWorkingYears\",hue=\"Attrition\",data=df)\n",
    "plt.title(\"Total Working Years vs Attrition\")\n",
    "plt.show()"
   ]
  },
  {
   "cell_type": "markdown",
   "metadata": {},
   "source": [
    "### Atrrition (Yes or No) vs Training Times Last year"
   ]
  },
  {
   "cell_type": "code",
   "execution_count": null,
   "metadata": {},
   "outputs": [],
   "source": [
    "stats,p=mannwhitneyu(df1.TrainingTimesLastYear,df2.TrainingTimesLastYear)\n",
    "print(stats,p)\n",
    "H0=\"There is no significant difference in the Training Times Last Year when attrition is yes or no\"\n",
    "H1=\"There is significant difference in the Training Times Last Year when attrition is yes or no\"\n",
    "if p<0.05:\n",
    "    print(\"Null Hypothesis Rejected\",\" \\nAccepted Alternate Hypothesis H1:\\n\",H1)\n",
    "else:\n",
    "    print(\"Null Hypothesis accepted \",\"\\nH0:\",H0)"
   ]
  },
  {
   "cell_type": "code",
   "execution_count": null,
   "metadata": {},
   "outputs": [],
   "source": [
    "sns.countplot(x=\"TrainingTimesLastYear\",hue=\"Attrition\",data=df)\n",
    "plt.title(\"Training Times Last Year vs Attrition\")\n",
    "plt.show()"
   ]
  },
  {
   "cell_type": "markdown",
   "metadata": {},
   "source": [
    "### Atrrition (Yes or No) vs Years at Company"
   ]
  },
  {
   "cell_type": "code",
   "execution_count": null,
   "metadata": {},
   "outputs": [],
   "source": [
    "stats,p=mannwhitneyu(df1.YearsAtCompany,df2.YearsAtCompany)\n",
    "print(stats,p)\n",
    "H0=\"There is no significant difference in the Years At Company when attrition is yes or no\"\n",
    "H1=\"There is significant difference in the Years At Company when attrition is yes or no\"\n",
    "if p<0.05:\n",
    "    print(\"Null Hypothesis Rejected\",\" \\nAccepted Alternate Hypothesis H1:\\n\",H1)\n",
    "else:\n",
    "    print(\"Null Hypothesis accepted \",\"\\nH0:\",H0)"
   ]
  },
  {
   "cell_type": "code",
   "execution_count": null,
   "metadata": {},
   "outputs": [],
   "source": [
    "sns.countplot(x=\"YearsAtCompany\",hue=\"Attrition\",data=df)\n",
    "plt.title(\"Years At Company vs Attrition\")\n",
    "plt.show()"
   ]
  },
  {
   "cell_type": "markdown",
   "metadata": {},
   "source": [
    "### Atrrition (Yes or No) vs Years Since Last Promotion"
   ]
  },
  {
   "cell_type": "code",
   "execution_count": null,
   "metadata": {},
   "outputs": [],
   "source": [
    "stats,p=mannwhitneyu(df1.YearsSinceLastPromotion,df2.YearsSinceLastPromotion)\n",
    "print(stats,p)\n",
    "H0=\"There is no significant difference in the Years Since Last Promotion when attrition is yes or no\"\n",
    "H1=\"There is significant difference in the Years Since Last Promotion when attrition is yes or no\"\n",
    "if p<0.05:\n",
    "    print(\"Null Hypothesis Rejected\",\" \\nAccepted Alternate Hypothesis H1:\\n\",H1)\n",
    "else:\n",
    "    print(\"Null Hypothesis accepted \",\"\\nH0:\",H0)"
   ]
  },
  {
   "cell_type": "code",
   "execution_count": null,
   "metadata": {},
   "outputs": [],
   "source": [
    "sns.countplot(x=\"YearsSinceLastPromotion\",hue=\"Attrition\",data=df)\n",
    "plt.title(\"Years Since Last Promotion vs Attrition\")\n",
    "plt.show()"
   ]
  },
  {
   "cell_type": "markdown",
   "metadata": {},
   "source": [
    "### Atrrition (Yes or No) vs Number of Years under Current Manager"
   ]
  },
  {
   "cell_type": "code",
   "execution_count": null,
   "metadata": {},
   "outputs": [],
   "source": [
    "stats,p=mannwhitneyu(df1.YearsWithCurrManager,df2.YearsWithCurrManager)\n",
    "print(stats,p)\n",
    "H0=\"There is no significant difference in the Number of years under current manager when attrition is yes or no\"\n",
    "H1=\"There is significant difference in the Number of years under current manager when attrition is yes or no\"\n",
    "if p<0.05:\n",
    "    print(\"Null Hypothesis Rejected\",\" \\nAccepted Alternate Hypothesis H1:\\n\",H1)\n",
    "else:\n",
    "    print(\"Null Hypothesis accepted \",\"\\nH0:\",H0)"
   ]
  },
  {
   "cell_type": "code",
   "execution_count": null,
   "metadata": {},
   "outputs": [],
   "source": [
    "sns.countplot(x=\"YearsWithCurrManager\",hue=\"Attrition\",data=df)\n",
    "plt.title(\"Numbers of years under current manager vs Attrition\")\n",
    "plt.show()"
   ]
  },
  {
   "cell_type": "markdown",
   "metadata": {},
   "source": [
    "### Atrrition (Yes or No) vs Stock Option Level"
   ]
  },
  {
   "cell_type": "code",
   "execution_count": null,
   "metadata": {},
   "outputs": [],
   "source": [
    "stats,p=mannwhitneyu(df1.StockOptionLevel,df2.StockOptionLevel)\n",
    "print(stats,p)\n",
    "H0=\"There is no significant difference in the Stock Option Level when attrition is yes or no\"\n",
    "H1=\"There is significant difference in the Stock Option Level when attrition is yes or no\"\n",
    "if p<0.05:\n",
    "    print(\"Null Hypothesis Rejected\",\" \\nAccepted Alternate Hypothesis H1:\\n\",H1)\n",
    "else:\n",
    "    print(\"Null Hypothesis accepted \",\"\\nH0:\",H0)"
   ]
  },
  {
   "cell_type": "code",
   "execution_count": null,
   "metadata": {},
   "outputs": [],
   "source": [
    "sns.countplot(x=\"StockOptionLevel\",hue=\"Attrition\",data=df)\n",
    "plt.title(\"Stock option level vs Attrition\")\n",
    "plt.show()"
   ]
  },
  {
   "cell_type": "markdown",
   "metadata": {},
   "source": [
    "# Chi Square Test"
   ]
  },
  {
   "cell_type": "markdown",
   "metadata": {},
   "source": [
    "### Atrrition (Yes or No) vs Gender"
   ]
  },
  {
   "cell_type": "code",
   "execution_count": null,
   "metadata": {},
   "outputs": [],
   "source": [
    "from scipy.stats import chi2_contingency\n",
    "chitable=pd.crosstab(df.Attrition, df.Gender)\n",
    "print(chitable)\n",
    "Ho=\"There is no significant difference in the Gender and Attrition when it is yes or no\"\n",
    "Ha=\"There is significant difference in the Gender and Attrition when it is yes or no\"\n",
    "stas,p,dof,expected=chi2_contingency(chitable)\n",
    "print(stats,p)\n",
    "if p<0.05:\n",
    "    print(\"Null Hypothesis Rejected\",\" \\nAccepted Alternate Hypothesis H1:\\n\",Ha)\n",
    "else:\n",
    "    print(\"Null Hypothesis accepted \",\"\\nH0:\",Ho)"
   ]
  },
  {
   "cell_type": "code",
   "execution_count": null,
   "metadata": {},
   "outputs": [],
   "source": [
    "sns.countplot(x=\"Gender\",hue=\"Attrition\",data=df)\n",
    "plt.title(\"Gender vs Attrition\")\n",
    "plt.show()"
   ]
  },
  {
   "cell_type": "markdown",
   "metadata": {},
   "source": [
    "### Atrrition (Yes or No) vs Education"
   ]
  },
  {
   "cell_type": "code",
   "execution_count": null,
   "metadata": {},
   "outputs": [],
   "source": [
    "chitable=pd.crosstab(df.Attrition, df.Education)\n",
    "print(\"Education Level\")\n",
    "print('\\t1.Below College')\n",
    "print('\\t2.College')\n",
    "print('\\t3.Bachelor')\n",
    "print( '\\t4.Master')\n",
    "print('\\t5.Doctor')\n",
    "print(\"\")\n",
    "print(chitable)\n",
    "Ho=\"There is no significant difference in the Education and Attrition when it is yes or no\"\n",
    "Ha=\"There is significant difference in the Education and Attrition when it is yes or no\"\n",
    "stas,p,dof,expected=chi2_contingency(chitable)\n",
    "print(stats,p)\n",
    "if p<0.05:\n",
    "    print(\"Null Hypothesis Rejected\",\" \\nAccepted Alternate Hypothesis H1:\\n\",Ha)\n",
    "else:\n",
    "    print(\"Null Hypothesis accepted \",\"\\nH0:\",Ho)"
   ]
  },
  {
   "cell_type": "code",
   "execution_count": null,
   "metadata": {},
   "outputs": [],
   "source": [
    "sns.countplot(x=\"Education\",hue=\"Attrition\",data=df)\n",
    "plt.title(\"Education vs Attrition\")\n",
    "plt.show()"
   ]
  },
  {
   "cell_type": "code",
   "execution_count": null,
   "metadata": {},
   "outputs": [],
   "source": [
    "df.columns"
   ]
  },
  {
   "cell_type": "markdown",
   "metadata": {},
   "source": [
    "### Atrrition (Yes or No) vs Business Travel"
   ]
  },
  {
   "cell_type": "code",
   "execution_count": null,
   "metadata": {},
   "outputs": [],
   "source": [
    "chitable=pd.crosstab(df.Attrition, df.BusinessTravel)\n",
    "print(\"Business Travel\")\n",
    "print('\\t1.Travel_Rarely')\n",
    "print('\\t2.Travel_Frequently')\n",
    "print('\\t3.Non-Travel')\n",
    "print(\"\")\n",
    "print(chitable)\n",
    "Ho=\"There is no significant difference in the Business Travel and Attrition when it is yes or no\"\n",
    "Ha=\"There is significant difference in the Business Travel and Attrition when it is yes or no\"\n",
    "stas,p,dof,expected=chi2_contingency(chitable)\n",
    "print(stats,p)\n",
    "if p<0.05:\n",
    "    print(\"Null Hypothesis Rejected\",\" \\nAccepted Alternate Hypothesis H1:\\n\",Ha)\n",
    "else:\n",
    "    print(\"Null Hypothesis accepted \",\"\\nH0:\",Ho)"
   ]
  },
  {
   "cell_type": "code",
   "execution_count": null,
   "metadata": {},
   "outputs": [],
   "source": [
    "sns.countplot(x=\"BusinessTravel\",hue=\"Attrition\",data=df)\n",
    "plt.title(\"Business Travel vs Attrition\")\n",
    "plt.show()"
   ]
  },
  {
   "cell_type": "code",
   "execution_count": null,
   "metadata": {},
   "outputs": [],
   "source": [
    "df[\"BusinessTravel\"].unique()"
   ]
  },
  {
   "cell_type": "markdown",
   "metadata": {},
   "source": [
    "### Atrrition (Yes or No) vs Department"
   ]
  },
  {
   "cell_type": "code",
   "execution_count": null,
   "metadata": {},
   "outputs": [],
   "source": [
    "chitable=pd.crosstab(df.Attrition, df.Department)\n",
    "print(\"Department\")\n",
    "print('\\t1.Sales')\n",
    "print('\\t2.Research & Development')\n",
    "print('\\t3.Human Resources')\n",
    "print(\"\")\n",
    "print(chitable)\n",
    "Ho=\"There is no significant difference in the Department and Attrition when it is yes or no\"\n",
    "Ha=\"There is significant difference in the Department and Attrition when it is yes or no\"\n",
    "stas,p,dof,expected=chi2_contingency(chitable)\n",
    "print(stats,p)\n",
    "if p<0.05:\n",
    "    print(\"Null Hypothesis Rejected\",\" \\nAccepted Alternate Hypothesis H1:\\n\",Ha)\n",
    "else:\n",
    "    print(\"Null Hypothesis accepted \",\"\\nH0:\",Ho)"
   ]
  },
  {
   "cell_type": "code",
   "execution_count": null,
   "metadata": {},
   "outputs": [],
   "source": [
    "sns.countplot(x=\"Department\",hue=\"Attrition\",data=df)\n",
    "plt.title(\"Department vs Attrition\")\n",
    "plt.show()"
   ]
  },
  {
   "cell_type": "markdown",
   "metadata": {},
   "source": [
    "### Atrrition (Yes or No) vs Marital Status"
   ]
  },
  {
   "cell_type": "code",
   "execution_count": null,
   "metadata": {},
   "outputs": [],
   "source": [
    "chitable=pd.crosstab(df.Attrition, df.MaritalStatus)\n",
    "print(chitable)\n",
    "Ho=\"There is no significant difference in the Marital Status of an employee and Attrition when it is yes or no\"\n",
    "Ha=\"There is significant difference in the Marital Status of an employee and Attrition when it is yes or no\"\n",
    "stas,p,dof,expected=chi2_contingency(chitable)\n",
    "print(stats,p)\n",
    "if p<0.05:\n",
    "    print(\"Null Hypothesis Rejected\",\" \\nAccepted Alternate Hypothesis \\nH1:\",Ha)\n",
    "else:\n",
    "    print(\"Null Hypothesis accepted \",\"\\nH0:\",Ho)"
   ]
  },
  {
   "cell_type": "code",
   "execution_count": null,
   "metadata": {},
   "outputs": [],
   "source": [
    "sns.countplot(y=\"MaritalStatus\",hue=\"Attrition\",data=df)\n",
    "plt.title(\"Marital Status vs Attrition\")\n",
    "plt.show()"
   ]
  },
  {
   "cell_type": "code",
   "execution_count": null,
   "metadata": {},
   "outputs": [],
   "source": [
    "df[\"Department\"].unique()"
   ]
  },
  {
   "cell_type": "code",
   "execution_count": null,
   "metadata": {},
   "outputs": [],
   "source": [
    "### Atrrition (Yes or No) vs Job Role"
   ]
  },
  {
   "cell_type": "code",
   "execution_count": null,
   "metadata": {},
   "outputs": [],
   "source": [
    "chitable=pd.crosstab(df.Attrition, df.JobRole)\n",
    "print(chitable)\n",
    "Ho=\"There is no significant difference in the Job Role of an employee and Attrition when it is yes or no\"\n",
    "Ha=\"There is significant difference in the Job Role of an employee and Attrition when it is yes or no\"\n",
    "stas,p,dof,expected=chi2_contingency(chitable)\n",
    "print(stats,p)\n",
    "if p<0.05:\n",
    "    print(\"Null Hypothesis Rejected\",\" \\nAccepted Alternate Hypothesis \\nH1:\",Ha)\n",
    "else:\n",
    "    print(\"Null Hypothesis accepted \",\"\\nH0:\",Ho)"
   ]
  },
  {
   "cell_type": "code",
   "execution_count": null,
   "metadata": {},
   "outputs": [],
   "source": [
    "sns.countplot(y=\"JobRole\",hue=\"Attrition\",data=df)\n",
    "plt.title(\"Job role vs Attrition\")\n",
    "plt.show()"
   ]
  },
  {
   "cell_type": "code",
   "execution_count": null,
   "metadata": {},
   "outputs": [],
   "source": [
    "df.columns"
   ]
  },
  {
   "cell_type": "code",
   "execution_count": null,
   "metadata": {},
   "outputs": [],
   "source": [
    "sns.countplot(x=\"Attrition\",hue=\"Attrition\",data=df)\n",
    "plt.title(\"Attrition_Yes(1) vs Attrition_No(0)\")\n",
    "plt.show()"
   ]
  },
  {
   "cell_type": "code",
   "execution_count": null,
   "metadata": {},
   "outputs": [],
   "source": []
  }
 ],
 "metadata": {
  "kernelspec": {
   "display_name": "Python 3",
   "language": "python",
   "name": "python3"
  },
  "language_info": {
   "codemirror_mode": {
    "name": "ipython",
    "version": 3
   },
   "file_extension": ".py",
   "mimetype": "text/x-python",
   "name": "python",
   "nbconvert_exporter": "python",
   "pygments_lexer": "ipython3",
   "version": "3.7.6"
  }
 },
 "nbformat": 4,
 "nbformat_minor": 4
}
