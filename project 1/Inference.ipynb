{
 "cells": [
  {
   "cell_type": "markdown",
   "metadata": {},
   "source": [
    "# Inference From Attrition Dataset"
   ]
  },
  {
   "cell_type": "markdown",
   "metadata": {},
   "source": [
    "### 1. The Attrition dataset is not balanced beacuse it contains more no of employee who have not left the company i.e. with Attrition No than with people who left the company with Attrition_yes.\n",
    "### 2. Employees who have Job Role as a Sales Executive, Research Scientist and Laboratory Technician in the same order have more attrition i.e. are more likely to live the company.\n",
    "### 3. Employees who have Marital Status as Single have more attrition i.e. are more likely to leave the company. \n",
    "### 4. Employees who are in the Research and Development Department have more attrition i.e. are more likely to leave the company.\n",
    "### 5. Employees who travel Rarely have more attrition i.e. are more likely to live the company.\n",
    "### 6. Employees who have a Bachelor degree have more attrition i.e. are more likely to live the company.\n",
    "### 7. Male Employees have more attrition i.e. are more likely to live the company.\n",
    "### 8. Experience of 0 to 3 years under the current Manager have more attrition i.e. are more likely to live the company.\n",
    "### 9. Those employees whose last promotion falls under 0 to 2 years have more attrition than others i.e. are more likely to live the company.\n",
    "### 10. Employess with experience between 1 to 5 years have more attrition than the others i.e. are more likely to live the company while the more experienced employees are less likely to like the company.\n",
    "### 11. Employees whose percentage salary Hike falls in the range between 11 to 14 have more attrition i.e. are more likely to live the company.\n",
    "### 12. Employees having age ranging from 24 to 34 have more attrition i.e. are more likely to live the company.\n",
    "### 13. Employees getting less Monthly Income as compared to the genreral trend in the market also have more attrition i.e. are more likely to live the company."
   ]
  },
  {
   "cell_type": "markdown",
   "metadata": {},
   "source": [
    "## Descriptive Statistics"
   ]
  },
  {
   "cell_type": "markdown",
   "metadata": {},
   "source": [
    "###  1. The box plot for column Education does not contains any outliers so it is normally distributed.\n",
    "#### 2. The Monthly Income is Right Skewed with many outliers.\n",
    "###  3. The Variable Age is Normally distributed with No outliers.\n",
    "###  4. The box plot for column Years at company contains many outliers and it is Right skewed since the median line is below the normal line as for a normal distribution.\n",
    "###  5. The box plot for column Distance from home does not contains any outliers so it is normally distributed.\n",
    "### 6.  Age, Distance From Home, Education and Percent Salary Hike are leptokurtic while the remaining variables are Platykurtic\n",
    "### 7.  So all the variables except Education has Positive Skewness"
   ]
  },
  {
   "cell_type": "markdown",
   "metadata": {},
   "source": [
    "## Correlation"
   ]
  },
  {
   "cell_type": "markdown",
   "metadata": {},
   "source": [
    "1. r= -0.15920500686577943              \n",
    "#negative correlation\n",
    "\n",
    "   p=1.996801615887666e-26\n",
    "\n",
    "Null Hypothesis will be Rejected and thus Alternate hypothesis will be Accepted \n",
    "Therefore  Attrition and Age has correlation"
   ]
  },
  {
   "cell_type": "markdown",
   "metadata": {},
   "source": [
    "2. r=-0.031176281698115017 # negative Correlation \n",
    "\n",
    "    p=0.03842748490600132\n",
    "\n",
    "Null Hypothesis will be Rejected and thus Alternate hypothesis will be Accepted \n",
    "Therefore Attrition and Monthly Income has correlation\n"
   ]
  },
  {
   "cell_type": "markdown",
   "metadata": {},
   "source": [
    "3. r=-0.00973014101017969  #Negative Correlation\n",
    "    \n",
    "    p=0.5182860428050771\n",
    "\n",
    "Null Hypothesis will be Accepted \n",
    "Attrition and Distance From Home has no correlation"
   ]
  },
  {
   "cell_type": "markdown",
   "metadata": {},
   "source": [
    "4. r= -0.01511116771096876 # Negative Correlation\n",
    "\n",
    "    p=0.3157293177118575\n",
    "\n",
    "Null Hypothesis will be Accepted \n",
    "Therefore Attrition and Education has no correlation"
   ]
  },
  {
   "cell_type": "markdown",
   "metadata": {},
   "source": [
    "5. r=0.032532594891053514 # Positive Correlation \n",
    "    \n",
    "    p=0.030743386433355353\n",
    "\n",
    "Null Hypothesis will be Rejected and thus Alternate hypothesis will be Accepted \n",
    "Therefore Attrition and Percentage Salary Hike has correlation"
   ]
  },
  {
   "cell_type": "markdown",
   "metadata": {},
   "source": [
    "6. r=-0.17029691465907898 # Negative Correlation \n",
    "\n",
    "    p=4.73706453353432e-30\n",
    "\n",
    "Null Hypothesis will be Rejected and thus Alternate hypothesis will be Accepted \n",
    "Therefore Attrition and Total Working years has correlation"
   ]
  },
  {
   "cell_type": "markdown",
   "metadata": {},
   "source": [
    "7. r=-0.04943057624425494 #Negative Correlation \n",
    "    \n",
    "    p=0.0010247061915365072\n",
    "\n",
    "Null Hypothesis will be Rejected and thus Alternate hypothesis will be Accepted \n",
    "Therefore Attrition and Training Times Last Year has correlation"
   ]
  },
  {
   "cell_type": "markdown",
   "metadata": {},
   "source": [
    "8. r=-0.04943057624425494 # Negative Correlation\n",
    "\n",
    "    p=0.0010247061915365072\n",
    "\n",
    "Null Hypothesis will be Rejected and thus Alternate hypothesis will be Accepted \n",
    "Therefore Attrition and Years At Company has correlation"
   ]
  },
  {
   "cell_type": "markdown",
   "metadata": {},
   "source": [
    "9. r=-0.03301877514258435 # Negative Correlation \n",
    "    \n",
    "    p=0.028330336189396753\n",
    "\n",
    "Null Hypothesis will be Rejected and thus Alternate hypothesis will be Accepted \n",
    "Therefore Attrition and Years Since Last Promotion has correlation\n"
   ]
  },
  {
   "cell_type": "markdown",
   "metadata": {},
   "source": [
    "10. r=-0.1561993159016281 # Negative Correlation \n",
    "\n",
    "    p=1.7339322652904162e-25\n",
    "\n",
    "Null Hypothesis will be Rejected and thus Alternate hypothesis will be Accepted \n",
    "Attrition and Number of years under current manager has correlation"
   ]
  },
  {
   "cell_type": "markdown",
   "metadata": {},
   "source": [
    "# Inferential Statistics"
   ]
  },
  {
   "cell_type": "markdown",
   "metadata": {},
   "source": [
    "### Mann Whitney Test"
   ]
  },
  {
   "cell_type": "markdown",
   "metadata": {},
   "source": [
    "1. calculated value=1312110.0 \n",
    "p=0.4629185205822659\n",
    "\n",
    "Null Hypothesis accepted  \n",
    "H0: There is no significant difference in the Distance from Home when attrition is yes or no"
   ]
  },
  {
   "cell_type": "markdown",
   "metadata": {},
   "source": [
    "2. calculated value=961731.0 \n",
    "p=2.9951588479067175e-30\n",
    "\n",
    "Null Hypothesis Rejected  \n",
    "Accepted Alternate Hypothesis H1: There is significant difference in the Age when attrition is yes or no"
   ]
  },
  {
   "cell_type": "markdown",
   "metadata": {},
   "source": [
    "3. calculated value=1280146.5 \n",
    "p=0.12035477215449608\n",
    "\n",
    "Null Hypothesis accepted  \n",
    "H0: There is no significant difference in the Education when attrition is yes or no"
   ]
  },
  {
   "cell_type": "markdown",
   "metadata": {},
   "source": [
    "4. calculated value=1250640.0 \n",
    "p=0.018660129917539733\n",
    "\n",
    "Null Hypothesis Rejected  \n",
    "Accepted Alternate Hypothesis H1: There is significant difference in the Percentage Salary Hike when attrition is yes or no"
   ]
  },
  {
   "cell_type": "markdown",
   "metadata": {},
   "source": [
    "5. calculated value=907090.0 \n",
    "p=8.545421960363104e-40\n",
    "\n",
    "Null Hypothesis Rejected  \n",
    "Accepted Alternate Hypothesis \n",
    "H1:There is significant difference in the Total Working Years when attrition is yes or no"
   ]
  },
  {
   "cell_type": "markdown",
   "metadata": {},
   "source": [
    "6. calculated value=1238940.0 \n",
    "p=0.005167954938699059\n",
    "\n",
    "Null Hypothesis Rejected  \n",
    "Accepted Alternate Hypothesis \n",
    "H1: There is significant difference in the Training Times Last Year when attrition is yes or no"
   ]
  },
  {
   "cell_type": "markdown",
   "metadata": {},
   "source": [
    "7. calculated value=923238.0 \n",
    "p=6.047598261693028e-37\n",
    "\n",
    "Null Hypothesis Rejected  \n",
    "Accepted Alternate Hypothesis \n",
    "H1: There is significant difference in the Years At Company when attrition is yes or no"
   ]
  },
  {
   "cell_type": "markdown",
   "metadata": {},
   "source": [
    "8. calculated value=1209366.0 \n",
    "p=0.0002021180346719736\n",
    "\n",
    "Null Hypothesis Rejected  \n",
    "Accepted Alternate Hypothesis \n",
    "H1:There is significant difference in the Years Since Last Promotion when attrition is yes or no"
   ]
  },
  {
   "cell_type": "markdown",
   "metadata": {},
   "source": [
    "9. calculated value=957253.5 \n",
    "p=1.2365483142169503e-31\n",
    "\n",
    "Null Hypothesis Rejected  \n",
    "Accepted Alternate Hypothesis \n",
    "H1: There is significant difference in the Number of years under current manager when attrition is yes or no"
   ]
  },
  {
   "cell_type": "markdown",
   "metadata": {},
   "source": [
    "10. calculated value=1296846.0 \n",
    "p=0.2636805975678431\n",
    "\n",
    "Null Hypothesis accepted  \n",
    "H0: There is no significant difference in the Stock Option Level when attrition is yes or no"
   ]
  },
  {
   "cell_type": "markdown",
   "metadata": {},
   "source": [
    "11. calculate value= 1264900.5 \n",
    "p=0.053577283839938566\n",
    "\n",
    "Null Hypothesis accepted  \n",
    "H0: There is no significant difference in the Monthly income when attrition is yes or no"
   ]
  },
  {
   "cell_type": "markdown",
   "metadata": {},
   "source": [
    "# Chi Square Test"
   ]
  },
  {
   "cell_type": "markdown",
   "metadata": {},
   "source": [
    "### It is clear that the Male employees has more attrition"
   ]
  },
  {
   "cell_type": "code",
   "execution_count": null,
   "metadata": {},
   "outputs": [],
   "source": [
    "1. \n",
    "Gender     Female  Male\n",
    "Attrition              \n",
    "0            1494  2205\n",
    "1             270   441\n",
    "\n",
    "calculated value=1296846.0 \n",
    "p=0.24529482862926827\n",
    "\n",
    "Null Hypothesis accepted  \n",
    "H0: There is no significant difference in the Gender and Attrition when it is yes or no"
   ]
  },
  {
   "cell_type": "markdown",
   "metadata": {},
   "source": [
    "### It is clear that the Bachelor Employees has more attrition  "
   ]
  },
  {
   "cell_type": "code",
   "execution_count": null,
   "metadata": {},
   "outputs": [],
   "source": [
    "Education Level\n",
    "\t1.Below College\n",
    "\t2.College\n",
    "\t3.Bachelor\n",
    "\t4.Master\n",
    "\t5.Doctor\n",
    "\n",
    "Education    1    2     3     4    5\n",
    "Attrition                           \n",
    "0          432  687  1449  1008  123\n",
    "1           78  159   267   186   21\n",
    "\n",
    "calculated value=1296846.0 \n",
    "p=0.22759826301782404\n",
    "Null Hypothesis accepted  \n",
    "H0: There is no significant difference in the Education and Attrition when it is yes or no"
   ]
  },
  {
   "cell_type": "markdown",
   "metadata": {},
   "source": [
    "### It is clear that the Employee who travels rarely has more attrition"
   ]
  },
  {
   "cell_type": "code",
   "execution_count": null,
   "metadata": {},
   "outputs": [],
   "source": [
    "Business Travel\n",
    "\t1.Travel_Rarely\n",
    "\t2.Travel_Frequently\n",
    "\t3.Non-Travel\n",
    "\n",
    "BusinessTravel  Non-Travel  Travel_Frequently  Travel_Rarely\n",
    "Attrition                                                   \n",
    "0                      414                624           2661\n",
    "1                       36                207            468\n",
    "\n",
    "calculated value=1296846.0 \n",
    "p=1.764276972983189e-16\n",
    "\n",
    "Null Hypothesis Rejected  \n",
    "Accepted Alternate Hypothesis \n",
    "H1:There is significant difference in the Education and Attrition when it is yes or no"
   ]
  },
  {
   "cell_type": "markdown",
   "metadata": {},
   "source": [
    "### it is clear that Employee who are in Research and Development Department has more Attrition"
   ]
  },
  {
   "cell_type": "code",
   "execution_count": null,
   "metadata": {},
   "outputs": [],
   "source": [
    "Department\n",
    "\t1.Sales\n",
    "\t2.Research & Development\n",
    "\t3.Human Resources\n",
    "\n",
    "Department  Human Resources  Research & Development  Sales\n",
    "Attrition                                                 \n",
    "0                       132                    2430   1137\n",
    "1                        57                     453    201\n",
    "\n",
    "calculated value=1296846.0 \n",
    "p=4.820888218170406e-07\n",
    "\n",
    "Null Hypothesis Rejected  \n",
    "Accepted Alternate Hypothesis \n",
    "H1:There is significant difference in the Education and Attrition when it is yes or no\n"
   ]
  }
 ],
 "metadata": {
  "kernelspec": {
   "display_name": "Python 3",
   "language": "python",
   "name": "python3"
  },
  "language_info": {
   "codemirror_mode": {
    "name": "ipython",
    "version": 3
   },
   "file_extension": ".py",
   "mimetype": "text/x-python",
   "name": "python",
   "nbconvert_exporter": "python",
   "pygments_lexer": "ipython3",
   "version": "3.7.6"
  }
 },
 "nbformat": 4,
 "nbformat_minor": 4
}
