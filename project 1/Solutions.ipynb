{
 "cells": [
  {
   "cell_type": "markdown",
   "metadata": {},
   "source": [
    "# Solutions to Control Attrition"
   ]
  },
  {
   "cell_type": "markdown",
   "metadata": {},
   "source": [
    "### 1. Pick up and drop facility or some travel coupons or allowances can be provided to the employees who have transportation issues.\n",
    "### 2. Monthly income of the employees should be according to the general Income trend in the market for a given Job Role. \n",
    "### 3. As Employees in the Age ranging from 24 to 34 have more attrition than others because the more experienced employees are less likely to leave the company, so in order to contorl this attrition some incentive/awards  at regular intervals say after a month or so can be given for their hard work to motivate and encourage them \n",
    "### 4. And can also assign some counsellor to understand their problems at regular interval so that they are mentally fit and thus can give their best.\n",
    " "
   ]
  }
 ],
 "metadata": {
  "kernelspec": {
   "display_name": "Python 3",
   "language": "python",
   "name": "python3"
  },
  "language_info": {
   "codemirror_mode": {
    "name": "ipython",
    "version": 3
   },
   "file_extension": ".py",
   "mimetype": "text/x-python",
   "name": "python",
   "nbconvert_exporter": "python",
   "pygments_lexer": "ipython3",
   "version": "3.7.6"
  }
 },
 "nbformat": 4,
 "nbformat_minor": 4
}
