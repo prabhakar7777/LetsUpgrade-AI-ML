{
 "cells": [
  {
   "cell_type": "code",
   "execution_count": 1,
   "metadata": {},
   "outputs": [
    {
     "data": {
      "text/plain": [
       "'Question 1 :\\nWrite a program to subtract two complex numbers in Python.'"
      ]
     },
     "execution_count": 1,
     "metadata": {},
     "output_type": "execute_result"
    }
   ],
   "source": [
    "'''Question 1 :\n",
    "Write a program to subtract two complex numbers in Python.'''"
   ]
  },
  {
   "cell_type": "code",
   "execution_count": 2,
   "metadata": {},
   "outputs": [
    {
     "name": "stdout",
     "output_type": "stream",
     "text": [
      "Subtraction of a= (3+4j) & b= (6+5j) is (-3-1j)\n",
      "<class 'complex'>\n"
     ]
    }
   ],
   "source": [
    "a=3+4j\n",
    "b=6+5j\n",
    "c=a-b\n",
    "print(f\"Subtraction of a= {a} & b= {b} is\",c)\n",
    "print(type(c))"
   ]
  },
  {
   "cell_type": "code",
   "execution_count": 3,
   "metadata": {},
   "outputs": [
    {
     "data": {
      "text/plain": [
       "'Question 2 :\\nWrite a program to find the fourth root of a number.'"
      ]
     },
     "execution_count": 3,
     "metadata": {},
     "output_type": "execute_result"
    }
   ],
   "source": [
    "'''Question 2 :\n",
    "Write a program to find the fourth root of a number.'''"
   ]
  },
  {
   "cell_type": "code",
   "execution_count": 4,
   "metadata": {},
   "outputs": [
    {
     "name": "stdout",
     "output_type": "stream",
     "text": [
      "The fourth root of x = 256 is:____ 4.0\n",
      "<class 'int'>\n",
      "<class 'float'>\n"
     ]
    }
   ],
   "source": [
    "x=256\n",
    "c=x**(1/4)\n",
    "print(f\"The fourth root of x = {x} is:____\",c)\n",
    "print(type(x))\n",
    "print(type(c))"
   ]
  },
  {
   "cell_type": "code",
   "execution_count": 5,
   "metadata": {},
   "outputs": [
    {
     "data": {
      "text/plain": [
       "'Question 3:\\nWrite a program to swap two numbers in Python with the help of a temporary variable.'"
      ]
     },
     "execution_count": 5,
     "metadata": {},
     "output_type": "execute_result"
    }
   ],
   "source": [
    "'''Question 3:\n",
    "Write a program to swap two numbers in Python with the help of a temporary variable.'''"
   ]
  },
  {
   "cell_type": "code",
   "execution_count": 6,
   "metadata": {},
   "outputs": [
    {
     "name": "stdout",
     "output_type": "stream",
     "text": [
      "Original numbers are:2 & 3\n",
      "Swapped numbers are:3 & 2\n",
      "<class 'int'>\n",
      "<class 'int'>\n"
     ]
    }
   ],
   "source": [
    "a=2\n",
    "b=3\n",
    "print(f\"Original numbers are:{a} & {b}\")\n",
    "c=a\n",
    "a=b\n",
    "b=c\n",
    "print(f\"Swapped numbers are:{a} & {b}\")\n",
    "print(type(a))\n",
    "print(type(b))"
   ]
  },
  {
   "cell_type": "code",
   "execution_count": 7,
   "metadata": {},
   "outputs": [
    {
     "data": {
      "text/plain": [
       "'Question 4:\\nWrite a program to swap two numbers in Python without using a temporary variable.'"
      ]
     },
     "execution_count": 7,
     "metadata": {},
     "output_type": "execute_result"
    }
   ],
   "source": [
    "'''Question 4:\n",
    "Write a program to swap two numbers in Python without using a temporary variable.'''"
   ]
  },
  {
   "cell_type": "code",
   "execution_count": 8,
   "metadata": {},
   "outputs": [
    {
     "name": "stdout",
     "output_type": "stream",
     "text": [
      "Original numbers are:2 & 3\n",
      "Swapped numbers are:3 & 2\n",
      "<class 'int'>\n",
      "<class 'int'>\n"
     ]
    }
   ],
   "source": [
    "a=2\n",
    "b=3\n",
    "print(f\"Original numbers are:{a} & {b}\")\n",
    "a=a+b\n",
    "b=a-b\n",
    "a=a-b\n",
    "print(f\"Swapped numbers are:{a} & {b}\")\n",
    "print(type(a))\n",
    "print(type(b))"
   ]
  },
  {
   "cell_type": "code",
   "execution_count": 9,
   "metadata": {},
   "outputs": [
    {
     "data": {
      "text/plain": [
       "'Question 5:\\nWrite a program to convert fahrenheit to kelvin and celsius both.'"
      ]
     },
     "execution_count": 9,
     "metadata": {},
     "output_type": "execute_result"
    }
   ],
   "source": [
    "'''Question 5:\n",
    "Write a program to convert fahrenheit to kelvin and celsius both.'''"
   ]
  },
  {
   "cell_type": "code",
   "execution_count": 10,
   "metadata": {},
   "outputs": [
    {
     "name": "stdout",
     "output_type": "stream",
     "text": [
      "The temperature in degree fahrenheit is: 89\n",
      "The temperature in degree Celcius is: 31.666666666666668 \n",
      "The temperature in degree Kelvin is: 304.81666666666666 K\n",
      "<class 'int'>\n",
      "<class 'float'>\n",
      "<class 'float'>\n"
     ]
    }
   ],
   "source": [
    "Temp_degF=89\n",
    "Temp_degC=(Temp_degF-32)*(5/9)\n",
    "Temp_degK=Temp_degC+273.15\n",
    "print(f\"The temperature in degree fahrenheit is: {Temp_degF}\")\n",
    "print(f\"The temperature in degree Celcius is: {Temp_degC} \")\n",
    "print(f\"The temperature in degree Kelvin is: {Temp_degK} K\")\n",
    "print(type(Temp_degF))\n",
    "print(type(Temp_degC))\n",
    "print(type(Temp_degK))"
   ]
  },
  {
   "cell_type": "code",
   "execution_count": 11,
   "metadata": {},
   "outputs": [
    {
     "data": {
      "text/plain": [
       "'Question 6:\\nWrite a program to demonstrate all the available data types in Python. Hint: Use type() function.'"
      ]
     },
     "execution_count": 11,
     "metadata": {},
     "output_type": "execute_result"
    }
   ],
   "source": [
    "'''Question 6:\n",
    "Write a program to demonstrate all the available data types in Python. Hint: Use type() function.'''\n"
   ]
  },
  {
   "cell_type": "code",
   "execution_count": 12,
   "metadata": {},
   "outputs": [
    {
     "name": "stdout",
     "output_type": "stream",
     "text": [
      "<class 'int'>\n",
      "<class 'str'>\n",
      "<class 'list'>\n",
      "<class 'tuple'>\n",
      "<class 'dict'>\n"
     ]
    }
   ],
   "source": [
    "a=3\n",
    "b=\"Hi\"\n",
    "c=[1,2,3]\n",
    "d=(1,2,3)\n",
    "e={a:1, b:2}\n",
    "print(type(a))\n",
    "print(type(b))\n",
    "print(type(c))\n",
    "print(type(d))\n",
    "print(type(e))"
   ]
  },
  {
   "cell_type": "code",
   "execution_count": 13,
   "metadata": {},
   "outputs": [
    {
     "data": {
      "text/plain": [
       "'Question 7:\\nCreate a Markdown cell in jupyter and list the steps discussed in the session by Dr. Darshan\\nIngle sir to create Github profile and upload Githubs Assignment link.'"
      ]
     },
     "execution_count": 13,
     "metadata": {},
     "output_type": "execute_result"
    }
   ],
   "source": [
    "'''Question 7:\n",
    "Create a Markdown cell in jupyter and list the steps discussed in the session by Dr. Darshan\n",
    "Ingle sir to create Github profile and upload Githubs Assignment link.'''"
   ]
  },
  {
   "cell_type": "markdown",
   "metadata": {},
   "source": [
    "1. Create Assignment folder Daywise as \"Day3\" in your system\n",
    "\n",
    "2. Create you profile by Login to your github \n",
    "\n",
    "3. Name the repository as LetsUpgrade AI/ML\n",
    "\n",
    "4. Upload your Daywise assignment in the folder\n",
    "\n",
    "5. Click on commit changes\n",
    "\n",
    "6. After uploading the Day wise Assignment in the github then fill up the google drive form link provided by the LetsUpgrade team\n",
    "\n",
    "7. paste the github link where you uploaded the assignment\n",
    "\n",
    "9. Click on submit"
   ]
  },
  {
   "cell_type": "code",
   "execution_count": null,
   "metadata": {},
   "outputs": [],
   "source": []
  }
 ],
 "metadata": {
  "kernelspec": {
   "display_name": "Python 3",
   "language": "python",
   "name": "python3"
  },
  "language_info": {
   "codemirror_mode": {
    "name": "ipython",
    "version": 3
   },
   "file_extension": ".py",
   "mimetype": "text/x-python",
   "name": "python",
   "nbconvert_exporter": "python",
   "pygments_lexer": "ipython3",
   "version": "3.7.3"
  }
 },
 "nbformat": 4,
 "nbformat_minor": 2
}
